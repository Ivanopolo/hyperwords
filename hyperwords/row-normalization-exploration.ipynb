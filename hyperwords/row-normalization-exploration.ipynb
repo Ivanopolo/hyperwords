{
 "cells": [
  {
   "cell_type": "code",
   "execution_count": 34,
   "metadata": {},
   "outputs": [],
   "source": [
    "import logging\n",
    "import time\n",
    "from sparsesvd import sparsesvd\n",
    "\n",
    "import numpy as np\n",
    "import os\n",
    "from docopt import docopt\n",
    "from scipy.sparse import csr_matrix, dok_matrix, load_npz\n",
    "from sklearn.preprocessing import normalize\n",
    "from scipy import linalg\n",
    "\n",
    "from representations.matrix_serializer import save_vocabulary, load_vocabulary\n",
    "from utils.randomized import randomized_eigh, normalized_embedder"
   ]
  },
  {
   "cell_type": "code",
   "execution_count": 35,
   "metadata": {},
   "outputs": [],
   "source": [
    "def load_adjacency_matrix(counts_path):\n",
    "    if os.path.exists(counts_path + \".adjacency.npz\"):\n",
    "        adjacency_matrix = load_npz(counts_path + \".adjacency.npz\")\n",
    "    else:\n",
    "        data = np.load(counts_path + \".data.npz\")[\"arr_0\"]\n",
    "        row_inds = np.load(counts_path + \".row_inds.npz\")[\"arr_0\"]\n",
    "        col_inds = np.load(counts_path + \".col_inds.npz\")[\"arr_0\"]\n",
    "        adjacency_matrix = csr_matrix((data, (row_inds, col_inds)), dtype=np.float64)\n",
    "    return adjacency_matrix\n",
    "\n",
    "\n",
    "def build_ppmi_matrix(adjacency_matrix, cds, neg, pos):\n",
    "    sum_w = np.asarray(adjacency_matrix.sum(axis=1)).flatten()\n",
    "    sum_c = sum_w.copy()\n",
    "    sum_c = sum_c ** cds\n",
    "\n",
    "    sum_total = sum_w.sum()\n",
    "    sum_w = np.reciprocal(sum_w)\n",
    "    sum_c = np.reciprocal(sum_c)\n",
    "\n",
    "    pmi = multiply_by_rows(adjacency_matrix, sum_w)\n",
    "    pmi = multiply_by_columns(pmi, sum_c)\n",
    "    pmi = pmi * sum_total\n",
    "\n",
    "    pmi.data = np.log(pmi.data)\n",
    "\n",
    "    pmi.data = pmi.data - np.log(neg) + np.log(pos)\n",
    "    pmi.data[pmi.data < 0] = 0\n",
    "    pmi.eliminate_zeros()\n",
    "\n",
    "    return pmi\n",
    "\n",
    "\n",
    "def multiply_by_rows(matrix, row_coefs):\n",
    "    normalizer = dok_matrix((len(row_coefs), len(row_coefs)))\n",
    "    normalizer.setdiag(row_coefs)\n",
    "    return normalizer.tocsr().dot(matrix)\n",
    "\n",
    "\n",
    "def multiply_by_columns(matrix, col_coefs):\n",
    "    normalizer = dok_matrix((len(col_coefs), len(col_coefs)))\n",
    "    normalizer.setdiag(col_coefs)\n",
    "    return matrix.dot(normalizer.tocsr())\n",
    "\n",
    "def orthogonalize_normalize(A):\n",
    "    A, _ = linalg.qr(A, mode='economic')\n",
    "    A /= np.linalg.norm(A, axis=1, keepdims=True)\n",
    "    return A"
   ]
  },
  {
   "cell_type": "code",
   "execution_count": 4,
   "metadata": {},
   "outputs": [],
   "source": [
    "counts_path = \"/Users/i.lobov/hyperwords/data/wikipedia.corpus.nodups.clean_win=2_thr=100\"\n",
    "dim = 100\n",
    "neg = 1\n",
    "pos = 1\n",
    "cds = 0.75\n",
    "\n",
    "_, iw = load_vocabulary(counts_path + '.words.vocab')\n",
    "adjacency_matrix = load_adjacency_matrix(counts_path)\n",
    "ppmi = build_ppmi_matrix(adjacency_matrix, cds, neg, pos)"
   ]
  },
  {
   "cell_type": "code",
   "execution_count": 37,
   "metadata": {},
   "outputs": [
    {
     "name": "stdout",
     "output_type": "stream",
     "text": [
      "129.91264221420187\n",
      "482.39175861311213\n",
      "485.3392797281142\n",
      "540.1761688992946\n",
      "559.4338753559784\n"
     ]
    }
   ],
   "source": [
    "ppmi.setdiag(0)\n",
    "rng = np.random.RandomState(0)\n",
    "Q = orthogonalize_normalize(rng.normal(size=(ppmi.shape[0], dim)))\n",
    "\n",
    "for i in range(5):\n",
    "    res = ppmi * Q\n",
    "    print(np.median(np.linalg.norm(res, axis=1)))\n",
    "    Q = orthogonalize_normalize(res)"
   ]
  },
  {
   "cell_type": "code",
   "execution_count": 56,
   "metadata": {},
   "outputs": [
    {
     "name": "stdout",
     "output_type": "stream",
     "text": [
      "129.91264221420187\n",
      "135.4521668485238\n",
      "335.2389313120066\n",
      "455.28873494562754\n",
      "423.66391928993676\n",
      "518.1042764569506\n",
      "446.2348474790255\n"
     ]
    }
   ],
   "source": [
    "ppmi.setdiag(0)\n",
    "rng = np.random.RandomState(0)\n",
    "Q = orthogonalize_normalize(rng.normal(size=(ppmi.shape[0], dim)))\n",
    "update = np.zeros(ppmi.shape[0])\n",
    "\n",
    "for i in range(1):\n",
    "    res = ppmi * Q if i % 2 == 0 else ppmi.T * Q\n",
    "    norms = np.linalg.norm(res, axis=1)\n",
    "    print(np.median(np.linalg.norm(res, axis=1)))\n",
    "    update -= 0.3 * norms\n",
    "    ppmi.setdiag(update)\n",
    "    Q = orthogonalize_normalize(res)\n",
    "    \n",
    "Q = orthogonalize_normalize(rng.normal(size=(ppmi.shape[0], dim)))\n",
    "\n",
    "for i in range(6):\n",
    "    res = ppmi * Q if i % 2 == 0 else ppmi.T * Q\n",
    "    norms = np.linalg.norm(res, axis=1)\n",
    "    print(np.median(np.linalg.norm(res, axis=1)))\n",
    "    Q = orthogonalize_normalize(res)"
   ]
  },
  {
   "cell_type": "code",
   "execution_count": 57,
   "metadata": {},
   "outputs": [],
   "source": [
    "output_path = \"../data/wikipedia.corpus.nodups.clean_win=2_thr=100_\" + \\\n",
    "    \"svd_dim=100_neg=1_pos=1_cds=0.75_normalized_power_iter=3\"\n",
    "np.save(output_path + '.vecs.npy', Q)"
   ]
  },
  {
   "cell_type": "code",
   "execution_count": 29,
   "metadata": {},
   "outputs": [
    {
     "data": {
      "text/plain": [
       "array([10465.99276693, 14126.05859754, 14250.2168913 , ...,\n",
       "        1190.98663033,  1087.13432493,   686.70041216])"
      ]
     },
     "execution_count": 29,
     "metadata": {},
     "output_type": "execute_result"
    }
   ],
   "source": [
    "np.linalg.norm(res, axis=1)"
   ]
  },
  {
   "cell_type": "code",
   "execution_count": 31,
   "metadata": {},
   "outputs": [
    {
     "data": {
      "text/plain": [
       "array([ 7890.98274729,  9631.81881784, 11041.07314667, ...,\n",
       "         795.91483903,   789.87678825,   529.25342911])"
      ]
     },
     "execution_count": 31,
     "metadata": {},
     "output_type": "execute_result"
    }
   ],
   "source": [
    "update * 10"
   ]
  },
  {
   "cell_type": "code",
   "execution_count": 22,
   "metadata": {},
   "outputs": [
    {
     "data": {
      "text/plain": [
       "array([ -79.5780177 ,  -95.37280851, -111.31386341, ...,   -7.86358397,\n",
       "         -7.90179061,   -5.3329202 ])"
      ]
     },
     "execution_count": 22,
     "metadata": {},
     "output_type": "execute_result"
    }
   ],
   "source": [
    "ppmi.diagonal()"
   ]
  },
  {
   "cell_type": "code",
   "execution_count": null,
   "metadata": {},
   "outputs": [],
   "source": []
  }
 ],
 "metadata": {
  "kernelspec": {
   "display_name": "Python (research)",
   "language": "python",
   "name": "research"
  },
  "language_info": {
   "codemirror_mode": {
    "name": "ipython",
    "version": 3
   },
   "file_extension": ".py",
   "mimetype": "text/x-python",
   "name": "python",
   "nbconvert_exporter": "python",
   "pygments_lexer": "ipython3",
   "version": "3.6.5"
  }
 },
 "nbformat": 4,
 "nbformat_minor": 2
}
