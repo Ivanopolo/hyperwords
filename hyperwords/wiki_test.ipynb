{
 "cells": [
  {
   "cell_type": "code",
   "execution_count": 29,
   "metadata": {},
   "outputs": [],
   "source": [
    "from scipy.sparse import csr_matrix, dok_matrix\n",
    "from sparsesvd import sparsesvd\n",
    "\n",
    "from docopt import docopt\n",
    "import numpy as np\n",
    "import time\n",
    "\n",
    "import numpy as np\n",
    "import time\n",
    "from collections import Counter, defaultdict\n",
    "\n",
    "from representations.matrix_serializer import save_vocabulary, load_vocabulary"
   ]
  },
  {
   "cell_type": "code",
   "execution_count": 7,
   "metadata": {},
   "outputs": [],
   "source": [
    "def load_adjacency_matrix(counts_path):\n",
    "    data = np.load(counts_path + \".data.npz\")[\"arr_0\"]\n",
    "    row_inds = np.load(counts_path + \".row_inds.npz\")[\"arr_0\"]\n",
    "    col_inds = np.load(counts_path + \".col_inds.npz\")[\"arr_0\"]\n",
    "    adjacency_matrix = csr_matrix((data, (row_inds, col_inds)), dtype=np.float64)\n",
    "    return adjacency_matrix"
   ]
  },
  {
   "cell_type": "code",
   "execution_count": 8,
   "metadata": {},
   "outputs": [],
   "source": [
    "counts_path = \"../data/wiki_test/wiki.test_win=2\"\n",
    "neg = 1\n",
    "cds = 0.75\n",
    "\n",
    "_, iw = load_vocabulary(counts_path + '.words.vocab')\n",
    "adjacency_matrix = load_adjacency_matrix(counts_path)"
   ]
  },
  {
   "cell_type": "code",
   "execution_count": 18,
   "metadata": {},
   "outputs": [],
   "source": [
    "sum_w = np.asarray(adjacency_matrix.sum(axis=1)).flatten()\n",
    "sum_c = sum_w.copy()\n",
    "sum_c = sum_c ** cds\n",
    "\n",
    "sum_total = sum_w.sum()\n",
    "#sum_w = np.reciprocal(sum_w)\n",
    "#sum_c = np.reciprocal(sum_c)"
   ]
  },
  {
   "cell_type": "code",
   "execution_count": 46,
   "metadata": {},
   "outputs": [],
   "source": [
    "data = np.load(counts_path + \".data.npz\")[\"arr_0\"]\n",
    "row_inds = np.load(counts_path + \".row_inds.npz\")[\"arr_0\"]\n",
    "col_inds = np.load(counts_path + \".col_inds.npz\")[\"arr_0\"]\n",
    "adjacency_matrix = csr_matrix((data, (row_inds, col_inds)), dtype=np.float64)"
   ]
  },
  {
   "cell_type": "code",
   "execution_count": 48,
   "metadata": {},
   "outputs": [
    {
     "data": {
      "text/plain": [
       "matrix([[30., 13.,  7.,  0.,  0.,  0.,  0.,  0.,  1.,  1.,  2.],\n",
       "        [13.,  0.,  0.,  2.,  0.,  0.,  1.,  1.,  1.,  0.,  1.],\n",
       "        [ 7.,  0.,  4.,  2.,  0.,  0.,  1.,  0.,  0.,  0.,  0.],\n",
       "        [ 0.,  2.,  2.,  0.,  0.,  0.,  1.,  1.,  0.,  0.,  0.],\n",
       "        [ 0.,  0.,  0.,  0.,  0.,  1.,  0.,  0.,  0.,  0.,  0.],\n",
       "        [ 0.,  0.,  0.,  0.,  1.,  0.,  0.,  0.,  0.,  0.,  0.],\n",
       "        [ 0.,  1.,  1.,  1.,  0.,  0.,  0.,  1.,  0.,  0.,  0.],\n",
       "        [ 0.,  1.,  0.,  1.,  0.,  0.,  1.,  0.,  0.,  0.,  0.],\n",
       "        [ 1.,  1.,  0.,  0.,  0.,  0.,  0.,  0.,  0.,  1.,  0.],\n",
       "        [ 1.,  0.,  0.,  0.,  0.,  0.,  0.,  0.,  1.,  0.,  0.],\n",
       "        [ 2.,  1.,  0.,  0.,  0.,  0.,  0.,  0.,  0.,  0.,  0.]])"
      ]
     },
     "execution_count": 48,
     "metadata": {},
     "output_type": "execute_result"
    }
   ],
   "source": [
    "adjacency_matrix.todense()"
   ]
  },
  {
   "cell_type": "code",
   "execution_count": null,
   "metadata": {},
   "outputs": [],
   "source": []
  }
 ],
 "metadata": {
  "kernelspec": {
   "display_name": "Python (research)",
   "language": "python",
   "name": "research"
  },
  "language_info": {
   "codemirror_mode": {
    "name": "ipython",
    "version": 3
   },
   "file_extension": ".py",
   "mimetype": "text/x-python",
   "name": "python",
   "nbconvert_exporter": "python",
   "pygments_lexer": "ipython3",
   "version": "3.6.3"
  }
 },
 "nbformat": 4,
 "nbformat_minor": 2
}
