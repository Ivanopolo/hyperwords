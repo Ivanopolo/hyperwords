{
 "cells": [
  {
   "cell_type": "code",
   "execution_count": 1,
   "metadata": {},
   "outputs": [],
   "source": [
    "import numpy as np\n",
    "import scipy.sparse\n",
    "from scipy.sparse.linalg import lobpcg, eigsh, svds\n",
    "from scipy.sparse import csr_matrix"
   ]
  },
  {
   "cell_type": "code",
   "execution_count": 2,
   "metadata": {},
   "outputs": [],
   "source": [
    "adj_path = \"/Users/i.lobov/hyperwords/data/wiki/wikipedia.corpus.nodups_counts_win=1.adj\"\n",
    "adjacency_matrix = scipy.sparse.load_npz(adj_path + \".npz\")"
   ]
  },
  {
   "cell_type": "code",
   "execution_count": null,
   "metadata": {},
   "outputs": [],
   "source": [
    "window_size = 2\n",
    "\n",
    "diags = np.asarray(adjacency_matrix.sum(axis=1)).flatten()\n",
    "n = adjacency_matrix.shape[0]\n",
    "D_inv = scipy.sparse.spdiags(1./diags, [0], n, n, format='csr')\n",
    "DA = D_inv.dot(adjacency_matrix)\n",
    "DA_r = D_inv.dot(adjacency_matrix)\n",
    "deepwalk_operator = DA\n",
    "for r in range(2, window_size+1):\n",
    "    DA_r = DA_r.dot(DA)\n",
    "    deepwalk_operator += DA_r\n",
    "    print(r)\n",
    "deepwalk_operator /= window_size\n",
    "deepwalk_operator = deepwalk_operator.dot(D_inv)"
   ]
  },
  {
   "cell_type": "code",
   "execution_count": null,
   "metadata": {},
   "outputs": [],
   "source": [
    "C = diags.sum() / 5.0\n",
    "deepwalk_operator.data = np.log(C * deepwalk_operator.data)"
   ]
  },
  {
   "cell_type": "code",
   "execution_count": null,
   "metadata": {},
   "outputs": [],
   "source": [
    "path = \"/Users/i.lobov/hyperwords/data/wiki/wikipedia.corpus.nodups_counts_win=1.skip-gram\"\n",
    "scipy.sparse.save_npz(path, deepwalk_operator)"
   ]
  },
  {
   "cell_type": "code",
   "execution_count": null,
   "metadata": {},
   "outputs": [],
   "source": []
  },
  {
   "cell_type": "code",
   "execution_count": null,
   "metadata": {},
   "outputs": [],
   "source": [
    "deep_vals, deep_vecs = eigsh(deepwalk_operator, k=1, which='LM')"
   ]
  }
 ],
 "metadata": {
  "kernelspec": {
   "display_name": "Python (research)",
   "language": "python",
   "name": "research"
  },
  "language_info": {
   "codemirror_mode": {
    "name": "ipython",
    "version": 3
   },
   "file_extension": ".py",
   "mimetype": "text/x-python",
   "name": "python",
   "nbconvert_exporter": "python",
   "pygments_lexer": "ipython3",
   "version": "3.6.3"
  }
 },
 "nbformat": 4,
 "nbformat_minor": 2
}
