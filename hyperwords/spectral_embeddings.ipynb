{
 "cells": [
  {
   "cell_type": "code",
   "execution_count": 3,
   "metadata": {},
   "outputs": [],
   "source": [
    "import numpy as np\n",
    "import scipy.sparse\n",
    "from scipy.sparse.linalg import lobpcg\n",
    "from scipy.sparse import csr_matrix"
   ]
  },
  {
   "cell_type": "code",
   "execution_count": 8,
   "metadata": {},
   "outputs": [
    {
     "name": "stdout",
     "output_type": "stream",
     "text": [
      "Built the word2id index\n",
      "Read count data\n",
      "Built adjacency matrix\n"
     ]
    }
   ],
   "source": [
    "### Build adjacency matrix from counts\n",
    "vocab_path = \"/Users/i.lobov/hyperwords/data/counts.words.vocab\"\n",
    "word2id = {}\n",
    "with open(vocab_path, 'r') as f:\n",
    "    for idx, line in enumerate(f):\n",
    "        word, _ = line.strip().split(\",\")\n",
    "        word2id[word] = idx\n",
    "        \n",
    "print(\"Built the word2id index\")\n",
    "\n",
    "N = len(word2id)\n",
    "counts_path = \"/Users/i.lobov/hyperwords/data/counts\"\n",
    "data = []\n",
    "rows = []\n",
    "cols = []\n",
    "\n",
    "with open(counts_path, 'r') as f:\n",
    "    for line in f:\n",
    "        count, word_a, word_b = line.strip().split()\n",
    "        word_a_id = word2id[word_a]\n",
    "        word_b_id = word2id[word_b]\n",
    "        \n",
    "        data.append(float(count))\n",
    "        rows.append(word_a_id)\n",
    "        cols.append(word_b_id)\n",
    "        \n",
    "print(\"Read count data\")\n",
    "\n",
    "adjacency_matrix = csr_matrix((data, (rows, cols)), shape=[N,N])\n",
    "print(\"Built adjacency matrix\")"
   ]
  },
  {
   "cell_type": "code",
   "execution_count": 22,
   "metadata": {},
   "outputs": [],
   "source": [
    "### Find spectral embeddings\n",
    "d=100\n",
    "max_iter=1000\n",
    "verbosity=0\n",
    "seed=0\n",
    "\n",
    "degrees = adjacency_matrix.sum(axis=1).flatten()\n",
    "n = adjacency_matrix.shape[0]\n",
    "D = scipy.sparse.spdiags(degrees, [0], n, n, format='csr')\n",
    "L = D - adjacency_matrix\n",
    "degrees_sqrt = 1.0 / scipy.sqrt(degrees)\n",
    "DH = scipy.sparse.spdiags(degrees_sqrt, [0], n, n, format='csr')\n",
    "L_norm = DH.dot(L.dot(DH))\n",
    "\n",
    "rng = np.random.RandomState(seed)\n",
    "init = rng.rand(n, d + 1)\n",
    "vals, vecs = lobpcg(A=L_norm, X=init, largest=False, maxiter=max_iter, verbosityLevel=verbosity)\n",
    "\n",
    "eigen_scaling = 1.0 / (vals[:])\n",
    "rescaled_eigenvectors = np.sqrt(eigen_scaling) * vecs[:, :] / np.sqrt(np.asarray(degrees).T)\n",
    "rescaled_eigenvectors = np.ascontiguousarray(rescaled_eigenvectors)"
   ]
  },
  {
   "cell_type": "code",
   "execution_count": 25,
   "metadata": {},
   "outputs": [],
   "source": [
    "save_path = \"/Users/i.lobov/hyperwords/data/spectral_embeddings_unscaled_d=100.words\"\n",
    "np.save(save_path, vecs[:,1:])"
   ]
  },
  {
   "cell_type": "code",
   "execution_count": null,
   "metadata": {},
   "outputs": [],
   "source": []
  }
 ],
 "metadata": {
  "kernelspec": {
   "display_name": "Python (research)",
   "language": "python",
   "name": "research"
  },
  "language_info": {
   "codemirror_mode": {
    "name": "ipython",
    "version": 3
   },
   "file_extension": ".py",
   "mimetype": "text/x-python",
   "name": "python",
   "nbconvert_exporter": "python",
   "pygments_lexer": "ipython3",
   "version": "3.6.3"
  }
 },
 "nbformat": 4,
 "nbformat_minor": 2
}
