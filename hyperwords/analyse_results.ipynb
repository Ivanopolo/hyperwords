{
 "cells": [
  {
   "cell_type": "code",
   "execution_count": 45,
   "metadata": {},
   "outputs": [],
   "source": [
    "import pandas as pd\n",
    "import numpy as np\n",
    "import pickle\n",
    "import os"
   ]
  },
  {
   "cell_type": "code",
   "execution_count": 46,
   "metadata": {},
   "outputs": [],
   "source": [
    "folder = \"../data/sc_res/\"\n",
    "res_files = os.listdir(folder)\n",
    "all_res = {}\n",
    "\n",
    "for file in res_files:\n",
    "    res_name = file[10:-12]\n",
    "    res = pickle.load(open(folder + file, \"rb\"))\n",
    "    \n",
    "    for key in list(res.keys()):\n",
    "        if \"google\" in key or \"msr\" in key:\n",
    "            res[key] = res[key][1]\n",
    "            #del res[key]\n",
    "            \n",
    "        if not \"Unscaled\" in key and key in res:\n",
    "            del res[key]\n",
    "    \n",
    "    all_res[res_name] = res"
   ]
  },
  {
   "cell_type": "code",
   "execution_count": 47,
   "metadata": {},
   "outputs": [],
   "source": [
    "df = pd.DataFrame(all_res).T"
   ]
  },
  {
   "cell_type": "code",
   "execution_count": 48,
   "metadata": {},
   "outputs": [
    {
     "data": {
      "text/plain": [
       "bruni_men.txt_Cos_Unscaled            0.790\n",
       "google.txt_Cos_Unscaled               0.604\n",
       "luong_rare.txt_Cos_Unscaled           0.507\n",
       "msr.txt_Cos_Unscaled                  0.494\n",
       "radinsky_mturk.txt_Cos_Unscaled       0.627\n",
       "ws353.txt_Cos_Unscaled                0.750\n",
       "ws353_relatedness.txt_Cos_Unscaled    0.698\n",
       "ws353_similarity.txt_Cos_Unscaled     0.801\n",
       "dtype: float64"
      ]
     },
     "execution_count": 48,
     "metadata": {},
     "output_type": "execute_result"
    }
   ],
   "source": [
    "### Best results over every task\n",
    "\n",
    "df.max(axis=0).round(3)"
   ]
  },
  {
   "cell_type": "code",
   "execution_count": 34,
   "metadata": {},
   "outputs": [
    {
     "data": {
      "text/plain": [
       "win=1_scaled_rhoB_tuned_bethe_hessian_pow=0.50    0.496636\n",
       "win=2_scaled_rhoB_tuned_bethe_hessian_pow=0.50    0.535333\n",
       "win=1_rhoB_tuned_bethe_hessian_pow=0.50           0.550137\n",
       "win=1_scaled_rhoB_tuned_bethe_hessian_pow=0.30    0.555752\n",
       "win=3_scaled_rhoB_tuned_bethe_hessian_pow=0.50    0.559522\n",
       "win=2_rhoB_tuned_bethe_hessian_pow=0.50           0.561742\n",
       "win=1_scaled_rhoB_tuned_bethe_hessian_pow=0.00    0.566006\n",
       "win=1_rhoB_tuned_bethe_hessian_pow=0.00           0.566006\n",
       "win=1_scaled_rhoB_tuned_bethe_hessian_pow=0.10    0.566654\n",
       "win=2_scaled_rhoB_tuned_bethe_hessian_pow=0.30    0.575418\n",
       "win=3_rhoB_tuned_bethe_hessian_pow=0.50           0.586859\n",
       "win=1_rhoB_tuned_bethe_hessian_pow=0.10           0.591261\n",
       "win=2_rhoB_tuned_bethe_hessian_pow=0.00           0.597810\n",
       "win=2_scaled_rhoB_tuned_bethe_hessian_pow=0.00    0.597810\n",
       "win=3_rhoB_tuned_bethe_hessian_pow=0.00           0.599780\n",
       "win=3_scaled_rhoB_tuned_bethe_hessian_pow=0.00    0.599780\n",
       "win=2_scaled_rhoB_tuned_bethe_hessian_pow=0.10    0.605894\n",
       "win=3_scaled_rhoB_tuned_bethe_hessian_pow=0.30    0.612664\n",
       "win=3_scaled_rhoB_tuned_bethe_hessian_pow=0.10    0.614998\n",
       "win=1_rhoB_tuned_bethe_hessian_pow=0.30           0.618745\n",
       "win=2_rhoB_tuned_bethe_hessian_pow=0.10           0.624837\n",
       "win=3_rhoB_tuned_bethe_hessian_pow=0.10           0.630603\n",
       "win=2_rhoB_tuned_bethe_hessian_pow=0.30           0.647203\n",
       "win=3_rhoB_tuned_bethe_hessian_pow=0.30           0.657784\n",
       "dtype: float64"
      ]
     },
     "execution_count": 34,
     "metadata": {},
     "output_type": "execute_result"
    }
   ],
   "source": [
    "### Best models over all tasks\n",
    "\n",
    "df.mean(axis=1).sort_values()"
   ]
  },
  {
   "cell_type": "code",
   "execution_count": 37,
   "metadata": {},
   "outputs": [
    {
     "data": {
      "text/plain": [
       "win=1_scaled_rhoB_tuned_bethe_hessian_pow=0.50    0.562095\n",
       "win=2_scaled_rhoB_tuned_bethe_hessian_pow=0.50    0.602323\n",
       "win=2_rhoB_tuned_bethe_hessian_pow=0.50           0.612078\n",
       "win=1_rhoB_tuned_bethe_hessian_pow=0.50           0.612758\n",
       "win=1_scaled_rhoB_tuned_bethe_hessian_pow=0.30    0.617407\n",
       "win=3_scaled_rhoB_tuned_bethe_hessian_pow=0.50    0.624374\n",
       "win=2_scaled_rhoB_tuned_bethe_hessian_pow=0.30    0.626551\n",
       "win=3_rhoB_tuned_bethe_hessian_pow=0.50           0.638180\n",
       "win=1_scaled_rhoB_tuned_bethe_hessian_pow=0.10    0.640553\n",
       "win=1_scaled_rhoB_tuned_bethe_hessian_pow=0.00    0.642324\n",
       "win=1_rhoB_tuned_bethe_hessian_pow=0.00           0.642324\n",
       "win=3_rhoB_tuned_bethe_hessian_pow=0.00           0.658576\n",
       "win=3_scaled_rhoB_tuned_bethe_hessian_pow=0.00    0.658576\n",
       "win=1_rhoB_tuned_bethe_hessian_pow=0.10           0.659467\n",
       "win=2_scaled_rhoB_tuned_bethe_hessian_pow=0.00    0.659587\n",
       "win=2_rhoB_tuned_bethe_hessian_pow=0.00           0.659587\n",
       "win=2_scaled_rhoB_tuned_bethe_hessian_pow=0.10    0.664262\n",
       "win=3_scaled_rhoB_tuned_bethe_hessian_pow=0.30    0.664464\n",
       "win=3_scaled_rhoB_tuned_bethe_hessian_pow=0.10    0.667511\n",
       "win=1_rhoB_tuned_bethe_hessian_pow=0.30           0.669171\n",
       "win=2_rhoB_tuned_bethe_hessian_pow=0.10           0.677671\n",
       "win=3_rhoB_tuned_bethe_hessian_pow=0.10           0.681204\n",
       "win=2_rhoB_tuned_bethe_hessian_pow=0.30           0.687477\n",
       "win=3_rhoB_tuned_bethe_hessian_pow=0.30           0.694087\n",
       "dtype: float64"
      ]
     },
     "execution_count": 37,
     "metadata": {},
     "output_type": "execute_result"
    }
   ],
   "source": [
    "### Best models over all tasks\n",
    "\n",
    "df.mean(axis=1).sort_values()"
   ]
  },
  {
   "cell_type": "code",
   "execution_count": 50,
   "metadata": {},
   "outputs": [
    {
     "data": {
      "text/html": [
       "<div>\n",
       "<style>\n",
       "    .dataframe thead tr:only-child th {\n",
       "        text-align: right;\n",
       "    }\n",
       "\n",
       "    .dataframe thead th {\n",
       "        text-align: left;\n",
       "    }\n",
       "\n",
       "    .dataframe tbody tr th {\n",
       "        vertical-align: top;\n",
       "    }\n",
       "</style>\n",
       "<table border=\"1\" class=\"dataframe\">\n",
       "  <thead>\n",
       "    <tr style=\"text-align: right;\">\n",
       "      <th></th>\n",
       "      <th>bruni_men.txt_Cos_Unscaled</th>\n",
       "      <th>google.txt_Cos_Unscaled</th>\n",
       "      <th>luong_rare.txt_Cos_Unscaled</th>\n",
       "      <th>msr.txt_Cos_Unscaled</th>\n",
       "      <th>radinsky_mturk.txt_Cos_Unscaled</th>\n",
       "      <th>ws353.txt_Cos_Unscaled</th>\n",
       "      <th>ws353_relatedness.txt_Cos_Unscaled</th>\n",
       "      <th>ws353_similarity.txt_Cos_Unscaled</th>\n",
       "    </tr>\n",
       "  </thead>\n",
       "  <tbody>\n",
       "    <tr>\n",
       "      <th>win=3_rhoB_tuned_bethe_hessian_pow=0.30</th>\n",
       "      <td>0.789851</td>\n",
       "      <td>0.604216</td>\n",
       "      <td>0.503493</td>\n",
       "      <td>0.493538</td>\n",
       "      <td>0.626687</td>\n",
       "      <td>0.750156</td>\n",
       "      <td>0.698378</td>\n",
       "      <td>0.795957</td>\n",
       "    </tr>\n",
       "    <tr>\n",
       "      <th>win=3_scaled_rhoB_tuned_bethe_hessian_pow=0.30</th>\n",
       "      <td>0.762349</td>\n",
       "      <td>0.550524</td>\n",
       "      <td>0.464195</td>\n",
       "      <td>0.364007</td>\n",
       "      <td>0.566953</td>\n",
       "      <td>0.740110</td>\n",
       "      <td>0.686760</td>\n",
       "      <td>0.766415</td>\n",
       "    </tr>\n",
       "  </tbody>\n",
       "</table>\n",
       "</div>"
      ],
      "text/plain": [
       "                                                bruni_men.txt_Cos_Unscaled  \\\n",
       "win=3_rhoB_tuned_bethe_hessian_pow=0.30                           0.789851   \n",
       "win=3_scaled_rhoB_tuned_bethe_hessian_pow=0.30                    0.762349   \n",
       "\n",
       "                                                google.txt_Cos_Unscaled  \\\n",
       "win=3_rhoB_tuned_bethe_hessian_pow=0.30                        0.604216   \n",
       "win=3_scaled_rhoB_tuned_bethe_hessian_pow=0.30                 0.550524   \n",
       "\n",
       "                                                luong_rare.txt_Cos_Unscaled  \\\n",
       "win=3_rhoB_tuned_bethe_hessian_pow=0.30                            0.503493   \n",
       "win=3_scaled_rhoB_tuned_bethe_hessian_pow=0.30                     0.464195   \n",
       "\n",
       "                                                msr.txt_Cos_Unscaled  \\\n",
       "win=3_rhoB_tuned_bethe_hessian_pow=0.30                     0.493538   \n",
       "win=3_scaled_rhoB_tuned_bethe_hessian_pow=0.30              0.364007   \n",
       "\n",
       "                                                radinsky_mturk.txt_Cos_Unscaled  \\\n",
       "win=3_rhoB_tuned_bethe_hessian_pow=0.30                                0.626687   \n",
       "win=3_scaled_rhoB_tuned_bethe_hessian_pow=0.30                         0.566953   \n",
       "\n",
       "                                                ws353.txt_Cos_Unscaled  \\\n",
       "win=3_rhoB_tuned_bethe_hessian_pow=0.30                       0.750156   \n",
       "win=3_scaled_rhoB_tuned_bethe_hessian_pow=0.30                0.740110   \n",
       "\n",
       "                                                ws353_relatedness.txt_Cos_Unscaled  \\\n",
       "win=3_rhoB_tuned_bethe_hessian_pow=0.30                                   0.698378   \n",
       "win=3_scaled_rhoB_tuned_bethe_hessian_pow=0.30                            0.686760   \n",
       "\n",
       "                                                ws353_similarity.txt_Cos_Unscaled  \n",
       "win=3_rhoB_tuned_bethe_hessian_pow=0.30                                  0.795957  \n",
       "win=3_scaled_rhoB_tuned_bethe_hessian_pow=0.30                           0.766415  "
      ]
     },
     "execution_count": 50,
     "metadata": {},
     "output_type": "execute_result"
    }
   ],
   "source": [
    "df.reindex_axis(labels=[\"win=3_rhoB_tuned_bethe_hessian_pow=0.30\", \"win=3_scaled_rhoB_tuned_bethe_hessian_pow=0.30\"], axis=0)"
   ]
  },
  {
   "cell_type": "code",
   "execution_count": null,
   "metadata": {},
   "outputs": [],
   "source": []
  }
 ],
 "metadata": {
  "kernelspec": {
   "display_name": "Python (research)",
   "language": "python",
   "name": "research"
  },
  "language_info": {
   "codemirror_mode": {
    "name": "ipython",
    "version": 3
   },
   "file_extension": ".py",
   "mimetype": "text/x-python",
   "name": "python",
   "nbconvert_exporter": "python",
   "pygments_lexer": "ipython3",
   "version": "3.6.3"
  }
 },
 "nbformat": 4,
 "nbformat_minor": 2
}
