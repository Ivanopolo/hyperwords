{
 "cells": [
  {
   "cell_type": "code",
   "execution_count": 1,
   "metadata": {},
   "outputs": [],
   "source": [
    "import numpy as np\n",
    "import scipy.sparse\n",
    "from scipy.sparse.linalg import lobpcg, eigsh, minres, LinearOperator\n",
    "from scipy.sparse import csr_matrix\n",
    "import time\n",
    "from utils.tools import build_weighted_bethe_hessian"
   ]
  },
  {
   "cell_type": "code",
   "execution_count": 2,
   "metadata": {},
   "outputs": [],
   "source": [
    "adj_path = \"/Users/i.lobov/hyperwords/data/wiki/wikipedia.corpus.nodups_counts_win=1.adj\"\n",
    "adjacency_matrix = scipy.sparse.load_npz(adj_path + \".npz\")\n",
    "#adjacency_matrix.data = 1 + np.log(adjacency_matrix.data)\n",
    "adjacency_matrix.data = adjacency_matrix.data.astype(np.float32) ** 0.3\n",
    "#adjacency_matrix.data /= np.max(adjacency_matrix.data)\n",
    "degrees = np.asarray(adjacency_matrix.sum(axis=1)).flatten()"
   ]
  },
  {
   "cell_type": "code",
   "execution_count": 6,
   "metadata": {},
   "outputs": [],
   "source": [
    "#unique_vals = np.unique(adjacency_matrix.data)"
   ]
  },
  {
   "cell_type": "code",
   "execution_count": 3,
   "metadata": {},
   "outputs": [],
   "source": [
    "#r = np.sqrt(5176.292450)\n",
    "r = np.sqrt(np.mean(degrees**2) / np.mean(degrees) - 1)\n",
    "#r = np.sqrt(np.mean(degrees))\n",
    "Hr = build_weighted_bethe_hessian(adjacency_matrix, r)\n",
    "\n",
    "#I = scipy.sparse.eye(n, format='csr')\n",
    "#Hr = D - adjacency_matrix #+ I*np.mean(degrees)"
   ]
  },
  {
   "cell_type": "code",
   "execution_count": 8,
   "metadata": {},
   "outputs": [],
   "source": [
    "# n = adjacency_matrix.shape[0]\n",
    "# I = scipy.sparse.eye(n, n, dtype=np.float32, format='csr')\n",
    "# Hr = Hr + I * 55"
   ]
  },
  {
   "cell_type": "code",
   "execution_count": 5,
   "metadata": {},
   "outputs": [],
   "source": [
    "# preconditioner = scipy.sparse.spdiags(1.0 / bethe_diagonal, [0], n, n, format='csr')"
   ]
  },
  {
   "cell_type": "code",
   "execution_count": 6,
   "metadata": {},
   "outputs": [],
   "source": [
    "# n = adjacency_matrix.shape[0]\n",
    "# dim = 100\n",
    "# tol = np.sqrt(1e-15)*n\n",
    "\n",
    "# start = time.time()\n",
    "# vals, vecs = eigsh(Hr, dim, which='SA', tol=tol)\n",
    "# print(\"time elapsed: %d\" % (time.time() - start))"
   ]
  },
  {
   "cell_type": "code",
   "execution_count": 4,
   "metadata": {},
   "outputs": [],
   "source": [
    "class Operator(object):\n",
    "\n",
    "    def __init__(self, A):\n",
    "        self.A = A.astype(PETSc.ScalarType)\n",
    "        self.n_calls = 0\n",
    "\n",
    "    def mult(self, A, x, y):\n",
    "        xx = x.getArray(readonly=1)\n",
    "        yy = y.getArray(readonly=0)\n",
    "        yy[:] = self.A.dot(xx)\n",
    "        self.n_calls += 1"
   ]
  },
  {
   "cell_type": "code",
   "execution_count": 5,
   "metadata": {},
   "outputs": [],
   "source": [
    "from petsc4py import PETSc\n",
    "from slepc4py import SLEPc\n",
    "\n",
    "n = adjacency_matrix.shape[0]\n",
    "mat = Operator(Hr)\n",
    "A = PETSc.Mat().createPython([n, n], mat)\n",
    "A.setUp()\n",
    "\n",
    "k = 500\n",
    "#tol = np.sqrt(1e-15)*n\n",
    "tol = 1e-4\n",
    "max_iter = 1\n",
    "\n",
    "E = SLEPc.EPS()\n",
    "E.create()\n",
    "#E.setType(SLEPc.EPS.Type.LANCZOS)\n",
    "E.setOperators(A)\n",
    "E.setProblemType(SLEPc.EPS.ProblemType.HEP)\n",
    "E.setDimensions(k)\n",
    "E.setTolerances(tol, max_iter)\n",
    "E.setWhichEigenpairs(SLEPc.EPS.Which.SMALLEST_REAL)\n",
    "#E.setWhichEigenpairs(SLEPc.EPS.Which.SMALLEST_MAGNITUDE)"
   ]
  },
  {
   "cell_type": "code",
   "execution_count": 6,
   "metadata": {},
   "outputs": [
    {
     "name": "stdout",
     "output_type": "stream",
     "text": [
      "Time elapsed: 121.953254\n",
      "Number of calls to Ax: 500\n"
     ]
    }
   ],
   "source": [
    "import time\n",
    "\n",
    "mat.n_calls = 0\n",
    "start = time.time()\n",
    "E.solve()\n",
    "print(\"Time elapsed: %f\" % (time.time() - start))\n",
    "print(\"Number of calls to Ax: %d\" % mat.n_calls)"
   ]
  },
  {
   "cell_type": "code",
   "execution_count": 9,
   "metadata": {},
   "outputs": [
    {
     "ename": "ValueError",
     "evalue": "operands could not be broadcast together with shapes (81,) (505,) ",
     "output_type": "error",
     "traceback": [
      "\u001b[0;31m---------------------------------------------------------------------------\u001b[0m",
      "\u001b[0;31mValueError\u001b[0m                                Traceback (most recent call last)",
      "\u001b[0;32m<ipython-input-9-a0d20104ceae>\u001b[0m in \u001b[0;36m<module>\u001b[0;34m()\u001b[0m\n\u001b[0;32m----> 1\u001b[0;31m \u001b[0mdiffs\u001b[0m \u001b[0;34m=\u001b[0m \u001b[0mnp\u001b[0m\u001b[0;34m.\u001b[0m\u001b[0msort\u001b[0m\u001b[0;34m(\u001b[0m\u001b[0mvals\u001b[0m\u001b[0;34m-\u001b[0m\u001b[0;36m55\u001b[0m\u001b[0;34m)\u001b[0m \u001b[0;34m-\u001b[0m \u001b[0mnp\u001b[0m\u001b[0;34m.\u001b[0m\u001b[0msort\u001b[0m\u001b[0;34m(\u001b[0m\u001b[0mnp\u001b[0m\u001b[0;34m.\u001b[0m\u001b[0mload\u001b[0m\u001b[0;34m(\u001b[0m\u001b[0;34m\"../data/wiki/win=1_weighted_bethe_hessian_slepc_pow=0.3_dim=500.vals.npy\"\u001b[0m\u001b[0;34m)\u001b[0m\u001b[0;34m)\u001b[0m\u001b[0;34m\u001b[0m\u001b[0m\n\u001b[0m",
      "\u001b[0;31mValueError\u001b[0m: operands could not be broadcast together with shapes (81,) (505,) "
     ]
    }
   ],
   "source": [
    "diffs = np.sort(vals-55) - np.sort(np.load(\"../data/wiki/win=1_weighted_bethe_hessian_slepc_pow=0.3_dim=500.vals.npy\"))"
   ]
  },
  {
   "cell_type": "code",
   "execution_count": 24,
   "metadata": {},
   "outputs": [
    {
     "data": {
      "text/plain": [
       "(array([62, 36,  1,  0,  0,  0,  0,  0,  0,  1]),\n",
       " array([ -3.23712826e-04,   1.24752522e-05,   3.48663330e-04,\n",
       "          6.84851408e-04,   1.02103949e-03,   1.35722756e-03,\n",
       "          1.69341564e-03,   2.02960372e-03,   2.36579180e-03,\n",
       "          2.70197988e-03,   3.03816795e-03]))"
      ]
     },
     "execution_count": 24,
     "metadata": {},
     "output_type": "execute_result"
    }
   ],
   "source": [
    "np.histogram(diffs)"
   ]
  },
  {
   "cell_type": "code",
   "execution_count": 10,
   "metadata": {},
   "outputs": [
    {
     "name": "stdout",
     "output_type": "stream",
     "text": [
      "\n",
      "Number of iterations of the method: 1\n",
      "Solution method: krylovschur\n",
      "Number of requested eigenvalues: 500\n",
      "Stopping condition: tol=0.0001, maxit=1\n",
      "Number of converged eigenpairs: 500\n",
      "\n",
      "        k          ||Ax-kx||/||kx|| \n",
      "----------------- ------------------\n",
      "   -52.814198          0.0267771\n",
      "   -11.473175        2.86993e-11\n",
      "    -7.327230           0.193008\n",
      "    -5.684050                  0\n",
      "    -5.014655        1.21125e+09\n",
      "    -4.622478                 -0\n",
      "    -4.379625                  0\n",
      "    -3.950231                nan\n",
      "    -3.509568                nan\n",
      "    -3.314204                nan\n"
     ]
    },
    {
     "ename": "Error",
     "evalue": "error code 63\n[0] EPSGetEigenpair() line 397 in /Users/i.lobov/slepc-3.8.2/src/eps/interface/epssolve.c\n[0] Argument out of range\n[0] Argument 2 out of range",
     "output_type": "error",
     "traceback": [
      "\u001b[0;31m---------------------------------------------------------------------------\u001b[0m",
      "\u001b[0;31mError\u001b[0m                                     Traceback (most recent call last)",
      "\u001b[0;32m<ipython-input-10-113d98c9bbb0>\u001b[0m in \u001b[0;36m<module>\u001b[0;34m()\u001b[0m\n\u001b[1;32m     23\u001b[0m     \u001b[0mprint\u001b[0m\u001b[0;34m(\u001b[0m\u001b[0;34m\"----------------- ------------------\"\u001b[0m\u001b[0;34m)\u001b[0m\u001b[0;34m\u001b[0m\u001b[0m\n\u001b[1;32m     24\u001b[0m     \u001b[0;32mfor\u001b[0m \u001b[0mi\u001b[0m \u001b[0;32min\u001b[0m \u001b[0mrange\u001b[0m\u001b[0;34m(\u001b[0m\u001b[0mnconv\u001b[0m\u001b[0;34m)\u001b[0m\u001b[0;34m:\u001b[0m\u001b[0;34m\u001b[0m\u001b[0m\n\u001b[0;32m---> 25\u001b[0;31m         \u001b[0mk\u001b[0m \u001b[0;34m=\u001b[0m \u001b[0mE\u001b[0m\u001b[0;34m.\u001b[0m\u001b[0mgetEigenpair\u001b[0m\u001b[0;34m(\u001b[0m\u001b[0mi\u001b[0m\u001b[0;34m,\u001b[0m \u001b[0mxr\u001b[0m\u001b[0;34m,\u001b[0m \u001b[0mxi\u001b[0m\u001b[0;34m)\u001b[0m\u001b[0;34m\u001b[0m\u001b[0m\n\u001b[0m\u001b[1;32m     26\u001b[0m         \u001b[0mvals\u001b[0m\u001b[0;34m[\u001b[0m\u001b[0mi\u001b[0m\u001b[0;34m]\u001b[0m \u001b[0;34m=\u001b[0m \u001b[0mk\u001b[0m\u001b[0;34m.\u001b[0m\u001b[0mreal\u001b[0m\u001b[0;34m\u001b[0m\u001b[0m\n\u001b[1;32m     27\u001b[0m         \u001b[0mvecs\u001b[0m\u001b[0;34m[\u001b[0m\u001b[0;34m:\u001b[0m\u001b[0;34m,\u001b[0m\u001b[0mi\u001b[0m\u001b[0;34m]\u001b[0m \u001b[0;34m=\u001b[0m \u001b[0mxr\u001b[0m\u001b[0;34m\u001b[0m\u001b[0m\n",
      "\u001b[0;32mSLEPc/EPS.pyx\u001b[0m in \u001b[0;36mslepc4py.SLEPc.EPS.getEigenpair\u001b[0;34m()\u001b[0m\n",
      "\u001b[0;31mError\u001b[0m: error code 63\n[0] EPSGetEigenpair() line 397 in /Users/i.lobov/slepc-3.8.2/src/eps/interface/epssolve.c\n[0] Argument out of range\n[0] Argument 2 out of range"
     ]
    }
   ],
   "source": [
    "print(\"\")\n",
    "its = E.getIterationNumber()\n",
    "print(\"Number of iterations of the method: %i\" % its)\n",
    "sol_type = E.getType()\n",
    "print(\"Solution method: %s\" % sol_type)\n",
    "nev, ncv, mpd = E.getDimensions()\n",
    "print(\"Number of requested eigenvalues: %i\" % nev)\n",
    "tol, maxit = E.getTolerances()\n",
    "print(\"Stopping condition: tol=%.4g, maxit=%d\" % (tol, maxit))\n",
    "#nconv = E.getConverged()\n",
    "nconv = 500\n",
    "print(\"Number of converged eigenpairs: %d\" % nconv)\n",
    "\n",
    "vecs = np.zeros([n, nconv])\n",
    "vals = np.zeros(nconv)\n",
    "\n",
    "xr, tmp = A.getVecs()\n",
    "xi, tmp = A.getVecs()\n",
    "\n",
    "if nconv > 0:\n",
    "    print(\"\")\n",
    "    print(\"        k          ||Ax-kx||/||kx|| \")\n",
    "    print(\"----------------- ------------------\")\n",
    "    for i in range(nconv):\n",
    "        k = E.getEigenpair(i, xr, xi)\n",
    "        vals[i] = k.real\n",
    "        vecs[:,i] = xr\n",
    "        if i < 10:\n",
    "            error = E.computeError(i)\n",
    "            if k.imag != 0.0:\n",
    "                print(\" %9f%+9f j  %12g\" % (k.real, k.imag, error))\n",
    "            else:\n",
    "                print(\" %12f       %12g\" % (k.real, error))\n",
    "    print(\"\")"
   ]
  },
  {
   "cell_type": "code",
   "execution_count": 25,
   "metadata": {},
   "outputs": [],
   "source": [
    "output_path = \"../data/wiki/win=1_weighted_bethe_hessian_slepc_PSD_pow=0.3_dim=100\"\n",
    "np.save(output_path + \".vecs\", vecs)\n",
    "np.save(output_path + \".vals\", vals - 55)\n",
    "np.save(output_path + \".degrees\", degrees)"
   ]
  },
  {
   "cell_type": "code",
   "execution_count": 14,
   "metadata": {},
   "outputs": [],
   "source": [
    "output_path = \"../data/wiki/win=1_weighted_bethe_hessian_scaled3_pow=0.30_dim=100\"\n",
    "np.save(output_path + \".vecs\", vecs2)\n",
    "np.save(output_path + \".vals\", vals2 - np.mean(degrees))\n",
    "np.save(output_path + \".degrees\", degrees)"
   ]
  },
  {
   "cell_type": "code",
   "execution_count": 11,
   "metadata": {},
   "outputs": [],
   "source": [
    "output_path = \"../data/wiki/win=1_bethe_hessian_small_rhoB_est_pow=0.00_dim=100\"\n",
    "vecs2 = np.load(output_path + \".vecs.npy\")\n",
    "vals2 = np.load(output_path + \".vals.npy\")"
   ]
  },
  {
   "cell_type": "code",
   "execution_count": 14,
   "metadata": {},
   "outputs": [],
   "source": [
    "all_vals = np.concatenate([vals, vals2], axis=0)\n",
    "all_vecs = np.concatenate([vecs, vecs2], axis=1)"
   ]
  },
  {
   "cell_type": "code",
   "execution_count": 19,
   "metadata": {},
   "outputs": [],
   "source": [
    "top_vals_inds = np.argsort(all_vals)[:100]\n",
    "output_path = \"../data/wiki/win=1_bethe_hessian_combo_rhoB_est_pow=0.00_dim=100\"\n",
    "np.save(output_path + \".vecs\", all_vecs[:, top_vals_inds])\n",
    "np.save(output_path + \".vals\", all_vals[top_vals_inds])\n",
    "np.save(output_path + \".degrees\", degrees)"
   ]
  },
  {
   "cell_type": "code",
   "execution_count": null,
   "metadata": {},
   "outputs": [],
   "source": []
  }
 ],
 "metadata": {
  "kernelspec": {
   "display_name": "Python (research)",
   "language": "python",
   "name": "research"
  },
  "language_info": {
   "codemirror_mode": {
    "name": "ipython",
    "version": 3
   },
   "file_extension": ".py",
   "mimetype": "text/x-python",
   "name": "python",
   "nbconvert_exporter": "python",
   "pygments_lexer": "ipython3",
   "version": "3.6.3"
  }
 },
 "nbformat": 4,
 "nbformat_minor": 2
}
