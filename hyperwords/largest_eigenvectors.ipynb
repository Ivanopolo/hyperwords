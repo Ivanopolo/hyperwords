{
 "cells": [
  {
   "cell_type": "code",
   "execution_count": 1,
   "metadata": {},
   "outputs": [],
   "source": [
    "import numpy as np\n",
    "import scipy.sparse\n",
    "from scipy.sparse.linalg import lobpcg, eigsh\n",
    "from scipy.sparse import csr_matrix\n",
    "import time"
   ]
  },
  {
   "cell_type": "code",
   "execution_count": 2,
   "metadata": {},
   "outputs": [],
   "source": [
    "adj_path = \"/Users/i.lobov/hyperwords/data/wiki/wikipedia.corpus.nodups_counts_win=1.adj\"\n",
    "adjacency_matrix = scipy.sparse.load_npz(adj_path + \".npz\")\n",
    "#adjacency_matrix.data = np.ones_like(adjacency_matrix.data, dtype=np.float64)\n",
    "adjacency_matrix.data = adjacency_matrix.data ** 0.1"
   ]
  },
  {
   "cell_type": "code",
   "execution_count": 3,
   "metadata": {},
   "outputs": [],
   "source": [
    "n = adjacency_matrix.shape[0]\n",
    "degrees = np.asarray(adjacency_matrix.sum(axis=1)).flatten()\n",
    "D = scipy.sparse.spdiags(degrees, [0], n, n, format='csr')\n",
    "L = D - adjacency_matrix\n",
    "degrees_sqrt = np.sqrt(degrees)\n",
    "D_inv_sqrt = scipy.sparse.spdiags(1.0 / degrees_sqrt, [0], n, n, format='csr')\n",
    "L = D_inv_sqrt.dot(L.dot(D_inv_sqrt))"
   ]
  },
  {
   "cell_type": "code",
   "execution_count": 4,
   "metadata": {},
   "outputs": [],
   "source": [
    "I = scipy.sparse.eye(n, n, dtype=np.float64, format='csr')"
   ]
  },
  {
   "cell_type": "code",
   "execution_count": 4,
   "metadata": {},
   "outputs": [],
   "source": [
    "degrees = np.asarray(adjacency_matrix.sum(axis=1)).flatten()"
   ]
  },
  {
   "cell_type": "code",
   "execution_count": 3,
   "metadata": {},
   "outputs": [],
   "source": [
    "# PMI-adjacency\n",
    "n = adjacency_matrix.shape[0]\n",
    "degrees = np.asarray(adjacency_matrix.sum(axis=1)).flatten()\n",
    "total_count = degrees.sum()\n",
    "D_inv = scipy.sparse.spdiags(1.0 / degrees, [0], n, n, format='csr')\n",
    "adjacency_matrix = D_inv.dot(adjacency_matrix.dot(D_inv))\n",
    "adjacency_matrix.data = np.maximum(np.log(adjacency_matrix.data * total_count), 0)\n",
    "adjacency_matrix.eliminate_zeros()\n",
    "degrees = np.asarray(adjacency_matrix.sum(axis=1), dtype=np.float64).flatten() #Update degrees"
   ]
  },
  {
   "cell_type": "code",
   "execution_count": 5,
   "metadata": {},
   "outputs": [],
   "source": [
    "#r = np.sqrt(5176.292450)\n",
    "r = np.sqrt(np.mean(degrees**2) / np.mean(degrees) - 1)\n",
    "n = adjacency_matrix.shape[0]\n",
    "\n",
    "dt = adjacency_matrix.data * r\n",
    "dt /= r**2 - adjacency_matrix.data ** 2\n",
    "\n",
    "adjacency_matrix.data = adjacency_matrix.data**2 / (r**2 - adjacency_matrix.data**2)\n",
    "bethe_diagonal = 1 + np.asarray(adjacency_matrix.sum(axis=1)).flatten()\n",
    "D = scipy.sparse.spdiags(bethe_diagonal, [0], n, n, format='csr')\n",
    "\n",
    "adjacency_matrix.data = dt\n",
    "Hr = D - adjacency_matrix"
   ]
  },
  {
   "cell_type": "code",
   "execution_count": 6,
   "metadata": {},
   "outputs": [
    {
     "name": "stdout",
     "output_type": "stream",
     "text": [
      "time elapsed: 388\n"
     ]
    }
   ],
   "source": [
    "#rng = np.random.RandomState(0)\n",
    "dim = 100\n",
    "tol = np.sqrt(1e-15)*n\n",
    "#init = rng.rand(n, dim)\n",
    "#init[:,0] = degrees_sqrt\n",
    "\n",
    "start = time.time()\n",
    "#vals, vecs = lobpcg(L, X=init, maxiter=100, largest=False, verbosityLevel=1)\n",
    "# vals, vecs = eigsh(L-I, dim, which='LM', tol=tol)\n",
    "vals, vecs = eigsh(Hr, dim, which='SA', tol=tol)\n",
    "print(\"time elapsed: %d\" % (time.time() - start))"
   ]
  },
  {
   "cell_type": "code",
   "execution_count": 7,
   "metadata": {},
   "outputs": [
    {
     "data": {
      "text/plain": [
       "array([-1258.77790519,  -270.77964403,  -250.29773191,  -211.15745687,\n",
       "        -207.83040302,  -135.72468745,  -126.8875453 ,  -115.86487585,\n",
       "        -107.55176857,  -101.82689345,   -75.62324121,   -71.30029337,\n",
       "         -64.48846634,   -59.66877346,   -57.40447959,   -57.24259512,\n",
       "         -53.93979442,   -48.98313316,   -46.84369598,   -42.91140712,\n",
       "         -38.35490698,   -37.08276147,   -33.98709954,   -29.21813586,\n",
       "         -29.00570564,   -28.39938261,   -27.21149534,   -26.64904835,\n",
       "         -25.03972875,   -22.26910664,   -18.45135919,   -17.17669717,\n",
       "         -16.46069154,   -15.28867459,   -14.42701873,   -14.20483487,\n",
       "         -13.57182498,   -11.77164402,   -11.39343534,   -10.43915631,\n",
       "          -9.78811498,    -9.62494088,    -9.31375842,    -8.59368845,\n",
       "          -8.499044  ,    -8.39754516,    -8.06637818,    -7.86229649,\n",
       "          -7.79291582,    -7.63039773,    -7.47575554,    -7.23172879,\n",
       "          -6.75923199,    -6.41215975,    -6.37555006,    -6.15992427,\n",
       "          -5.88198881,    -5.61729478,    -5.40442371,    -5.25652502,\n",
       "          -5.02171777,    -4.74771158,    -4.62860249,    -4.56815306,\n",
       "          -4.5201047 ,    -4.34586138,    -4.21778114,    -4.1363589 ,\n",
       "          -4.10804524,    -3.92560386,    -3.88333345,    -3.77719164,\n",
       "          -3.64884527,    -3.55253666,    -3.43482951,    -3.36899207,\n",
       "          -3.34861886,    -3.19603233,    -3.13115754,    -3.07268728,\n",
       "          -3.02871034,    -2.90702998,    -2.90306341,    -2.81927158,\n",
       "          -2.78665879,    -2.74649627,    -2.69186874,    -2.65501274,\n",
       "          -2.63166193,    -2.59047534,    -2.48699111,    -2.48251821,\n",
       "          -2.39705247,    -2.24352157,    -2.08127538,    -2.05954315,\n",
       "          -1.96820476,    -1.94850902,    -1.84749389,    -1.73625777])"
      ]
     },
     "execution_count": 7,
     "metadata": {},
     "output_type": "execute_result"
    }
   ],
   "source": [
    "vals"
   ]
  },
  {
   "cell_type": "code",
   "execution_count": null,
   "metadata": {},
   "outputs": [],
   "source": []
  },
  {
   "cell_type": "code",
   "execution_count": 8,
   "metadata": {},
   "outputs": [],
   "source": [
    "output_path = \"../data/wiki/win=1_weighted_bethe_hessian_pow=0.50_dim=100\"\n",
    "np.save(output_path + \".vecs\", vecs)\n",
    "np.save(output_path + \".vals\", vals)\n",
    "np.save(output_path + \".degrees\", degrees)"
   ]
  },
  {
   "cell_type": "code",
   "execution_count": 11,
   "metadata": {},
   "outputs": [],
   "source": [
    "output_path = \"../data/wiki/win=1_bethe_hessian_small_rhoB_est_pow=0.00_dim=100\"\n",
    "vecs2 = np.load(output_path + \".vecs.npy\")\n",
    "vals2 = np.load(output_path + \".vals.npy\")"
   ]
  },
  {
   "cell_type": "code",
   "execution_count": 14,
   "metadata": {},
   "outputs": [],
   "source": [
    "all_vals = np.concatenate([vals, vals2], axis=0)\n",
    "all_vecs = np.concatenate([vecs, vecs2], axis=1)"
   ]
  },
  {
   "cell_type": "code",
   "execution_count": 19,
   "metadata": {},
   "outputs": [],
   "source": [
    "top_vals_inds = np.argsort(all_vals)[:100]\n",
    "output_path = \"../data/wiki/win=1_bethe_hessian_combo_rhoB_est_pow=0.00_dim=100\"\n",
    "np.save(output_path + \".vecs\", all_vecs[:, top_vals_inds])\n",
    "np.save(output_path + \".vals\", all_vals[top_vals_inds])\n",
    "np.save(output_path + \".degrees\", degrees)"
   ]
  },
  {
   "cell_type": "code",
   "execution_count": null,
   "metadata": {},
   "outputs": [],
   "source": []
  }
 ],
 "metadata": {
  "kernelspec": {
   "display_name": "Python (research)",
   "language": "python",
   "name": "research"
  },
  "language_info": {
   "codemirror_mode": {
    "name": "ipython",
    "version": 3
   },
   "file_extension": ".py",
   "mimetype": "text/x-python",
   "name": "python",
   "nbconvert_exporter": "python",
   "pygments_lexer": "ipython3",
   "version": "3.6.3"
  }
 },
 "nbformat": 4,
 "nbformat_minor": 2
}
