{
 "cells": [
  {
   "cell_type": "code",
   "execution_count": 1,
   "metadata": {},
   "outputs": [],
   "source": [
    "import numpy as np\n",
    "import scipy.sparse\n",
    "from scipy.sparse.linalg import lobpcg, eigsh, minres, LinearOperator\n",
    "from scipy.sparse import csr_matrix\n",
    "import time\n",
    "from utils.tools import build_weighted_bethe_hessian\n",
    "from scipy.sparse.csgraph import minimum_spanning_tree"
   ]
  },
  {
   "cell_type": "code",
   "execution_count": 2,
   "metadata": {},
   "outputs": [],
   "source": [
    "adj_path = \"/Users/i.lobov/hyperwords/data/wiki/wikipedia.corpus.nodups_counts_win=1.adj\"\n",
    "adjacency_matrix = scipy.sparse.load_npz(adj_path + \".npz\")\n",
    "adjacency_matrix.data = adjacency_matrix.data ** 0.3\n",
    "degrees = np.asarray(adjacency_matrix.sum(axis=1)).flatten()"
   ]
  },
  {
   "cell_type": "code",
   "execution_count": 3,
   "metadata": {},
   "outputs": [],
   "source": [
    "r = np.sqrt(np.mean(degrees**2) / np.mean(degrees) - 1)\n",
    "#r = np.mean(adjacency_matrix.data**2)\n",
    "D, A = build_weighted_bethe_hessian(adjacency_matrix, r)\n",
    "\n",
    "n = adjacency_matrix.shape[0]\n",
    "I = scipy.sparse.eye(n, format='csr')\n",
    "Hr = D - A #+ I * np.mean(degrees)"
   ]
  },
  {
   "cell_type": "code",
   "execution_count": null,
   "metadata": {},
   "outputs": [],
   "source": []
  },
  {
   "cell_type": "code",
   "execution_count": 4,
   "metadata": {},
   "outputs": [],
   "source": [
    "class MatrixOperator(object):\n",
    "\n",
    "    def __init__(self, A):\n",
    "        self.A = A.astype(PETSc.ScalarType)\n",
    "        self.n_calls = 0\n",
    "\n",
    "    def mult(self, A, x, y):\n",
    "        xx = x.getArray(readonly=1)\n",
    "        yy = y.getArray(readonly=0)\n",
    "        yy[:] = self.A.dot(xx)\n",
    "        self.n_calls += 1\n",
    "        \n",
    "    def getDiagonal(self, A, y):\n",
    "        yy = y.getArray(readonly=0)\n",
    "        yy[:] = self.A.diagonal()"
   ]
  },
  {
   "cell_type": "code",
   "execution_count": null,
   "metadata": {},
   "outputs": [
    {
     "name": "stdout",
     "output_type": "stream",
     "text": [
      "Current iteration: 1, number of converged eigenvalues: 32\n",
      "Current iteration: 2, number of converged eigenvalues: 39\n",
      "Current iteration: 3, number of converged eigenvalues: 46\n",
      "Current iteration: 4, number of converged eigenvalues: 56\n"
     ]
    }
   ],
   "source": [
    "from petsc4py import PETSc\n",
    "from slepc4py import SLEPc\n",
    "\n",
    "A = Hr\n",
    "k = 100\n",
    "tol = 1e-2\n",
    "max_iter = 100\n",
    "\n",
    "### Setup matrix operator\n",
    "n = A.shape[0]\n",
    "mat = MatrixOperator(A)\n",
    "A_operator = PETSc.Mat().createPython([n, n], mat)\n",
    "A_operator.setUp()\n",
    "\n",
    "### Solve eigenproblem\n",
    "E = SLEPc.EPS()\n",
    "E.create()\n",
    "E.setOperators(A_operator)\n",
    "E.setProblemType(SLEPc.EPS.ProblemType.HEP)\n",
    "#E.setType(SLEPc.EPS.Type.LANCZOS)\n",
    "E.setDimensions(k)\n",
    "E.setTolerances(tol, max_iter)\n",
    "E.setWhichEigenpairs(SLEPc.EPS.Which.SMALLEST_REAL)\n",
    "\n",
    "def monitor_fun(eps, iters, nconv, eigs, errors):\n",
    "    print(\"Current iteration: %d, number of converged eigenvalues: %d\" % (iters, nconv))\n",
    "\n",
    "E.setMonitor(monitor_fun)\n",
    "\n",
    "start = time.time()\n",
    "E.solve()\n",
    "print(\"Time_elapsed: %d\" % (time.time() - start))\n",
    "print(\"Number of calls to Ax: %d\" % mat.n_calls)"
   ]
  },
  {
   "cell_type": "code",
   "execution_count": 8,
   "metadata": {},
   "outputs": [
    {
     "name": "stdout",
     "output_type": "stream",
     "text": [
      "\n",
      "Number of iterations of the method: 1\n",
      "Solution method: lanczos\n",
      "10 30 30\n",
      "Number of requested eigenvalues: 10\n",
      "Stopping condition: tol=0.01, maxit=100\n",
      "Number of converged eigenpairs: 11\n"
     ]
    }
   ],
   "source": [
    "### Collect results\n",
    "print(\"\")\n",
    "its = E.getIterationNumber()\n",
    "print(\"Number of iterations of the method: %i\" % its)\n",
    "sol_type = E.getType()\n",
    "print(\"Solution method: %s\" % sol_type)\n",
    "nev, ncv, mpd = E.getDimensions()\n",
    "print(nev, ncv, mpd)\n",
    "print(\"Number of requested eigenvalues: %i\" % nev)\n",
    "tol, maxit = E.getTolerances()\n",
    "print(\"Stopping condition: tol=%.4g, maxit=%d\" % (tol, maxit))\n",
    "nconv = E.getConverged()\n",
    "print(\"Number of converged eigenpairs: %d\" % nconv)\n",
    "nconv = min(nconv, k)\n",
    "\n",
    "if nconv < k:\n",
    "    raise ZeroDivisionError(\"Failed to converge for requested number of k with maxiter=%d\" % max_iter)\n",
    "\n",
    "vecs = np.zeros([n, nconv])\n",
    "vals = np.zeros(nconv)\n",
    "\n",
    "xr, tmp = A_operator.getVecs()\n",
    "xi, tmp = A_operator.getVecs()\n",
    "\n",
    "if nconv > 0:\n",
    "    for i in range(nconv):\n",
    "        val = E.getEigenpair(i, xr, xi)\n",
    "        vals[i] = val.real\n",
    "        vecs[:, i] = xr"
   ]
  },
  {
   "cell_type": "code",
   "execution_count": 9,
   "metadata": {},
   "outputs": [
    {
     "data": {
      "text/plain": [
       "array([-52.81019524, -11.47311446,  40.03498392,  44.04483584,\n",
       "        47.52611907,  61.85944197,  66.21374104,  78.4068736 ,\n",
       "        91.39344258, 112.57228353])"
      ]
     },
     "execution_count": 9,
     "metadata": {},
     "output_type": "execute_result"
    }
   ],
   "source": [
    "vals"
   ]
  },
  {
   "cell_type": "code",
   "execution_count": null,
   "metadata": {},
   "outputs": [],
   "source": []
  },
  {
   "cell_type": "code",
   "execution_count": 18,
   "metadata": {},
   "outputs": [],
   "source": [
    "output_path = \"../data/wiki/win=1_correctly_weighted_bethe_hessian_fast_slepc_pow=0.3_dim=100\"\n",
    "np.save(output_path + \".vecs\", vecs[:,:100])\n",
    "np.save(output_path + \".vals\", vals[:100])\n",
    "np.save(output_path + \".degrees\", degrees)"
   ]
  },
  {
   "cell_type": "code",
   "execution_count": 19,
   "metadata": {},
   "outputs": [
    {
     "data": {
      "text/plain": [
       "'../data/wiki/win=1_correctly_weighted_bethe_hessian_fast_slepc_pow=0.3_dim=100.words.vocab'"
      ]
     },
     "execution_count": 19,
     "metadata": {},
     "output_type": "execute_result"
    }
   ],
   "source": [
    "import shutil\n",
    "base_path = '../data/wiki/'\n",
    "shutil.copyfile(base_path + 'win=1_weighted_bethe_hessian_slepc_scaled_abs_tol=1e-3_pow=0.3_dim=500.words.vocab', \n",
    "                base_path + 'win=1_correctly_weighted_bethe_hessian_fast_slepc_pow=0.3_dim=100' + \".words.vocab\")"
   ]
  },
  {
   "cell_type": "code",
   "execution_count": null,
   "metadata": {},
   "outputs": [],
   "source": []
  }
 ],
 "metadata": {
  "kernelspec": {
   "display_name": "Python (research)",
   "language": "python",
   "name": "research"
  },
  "language_info": {
   "codemirror_mode": {
    "name": "ipython",
    "version": 3
   },
   "file_extension": ".py",
   "mimetype": "text/x-python",
   "name": "python",
   "nbconvert_exporter": "python",
   "pygments_lexer": "ipython3",
   "version": "3.6.3"
  }
 },
 "nbformat": 4,
 "nbformat_minor": 2
}
