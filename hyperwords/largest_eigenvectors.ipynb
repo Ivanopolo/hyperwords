{
 "cells": [
  {
   "cell_type": "code",
   "execution_count": 1,
   "metadata": {},
   "outputs": [],
   "source": [
    "import numpy as np\n",
    "import scipy.sparse\n",
    "from scipy.sparse.linalg import lobpcg, eigsh, minres, LinearOperator\n",
    "from scipy.sparse import csr_matrix\n",
    "import time\n",
    "from utils.tools import build_weighted_bethe_hessian"
   ]
  },
  {
   "cell_type": "code",
   "execution_count": 8,
   "metadata": {},
   "outputs": [],
   "source": [
    "adj_path = \"/Users/i.lobov/hyperwords/data/wiki/wikipedia.corpus.nodups_counts_win=1.adj\"\n",
    "adjacency_matrix = scipy.sparse.load_npz(adj_path + \".npz\")\n",
    "adjacency_matrix.data = adjacency_matrix.data ** 0.3\n",
    "#adjacency_matrix.data /= np.max(adjacency_matrix.data)\n",
    "degrees = np.asarray(adjacency_matrix.sum(axis=1)).flatten()"
   ]
  },
  {
   "cell_type": "code",
   "execution_count": 9,
   "metadata": {},
   "outputs": [],
   "source": [
    "#r = np.sqrt(5176.292450)\n",
    "#r = np.sqrt(np.mean(degrees**2) / np.mean(degrees) - 1)\n",
    "r = np.sqrt(np.mean(degrees))\n",
    "Hr = build_weighted_bethe_hessian(adjacency_matrix, r)\n",
    "\n",
    "#I = scipy.sparse.eye(n, format='csr')\n",
    "#Hr = D - adjacency_matrix #+ I*np.mean(degrees)"
   ]
  },
  {
   "cell_type": "code",
   "execution_count": 13,
   "metadata": {},
   "outputs": [],
   "source": [
    "# preconditioner = scipy.sparse.spdiags(1.0 / bethe_diagonal, [0], n, n, format='csr')"
   ]
  },
  {
   "cell_type": "code",
   "execution_count": 10,
   "metadata": {},
   "outputs": [
    {
     "name": "stdout",
     "output_type": "stream",
     "text": [
      "time elapsed: 38\n"
     ]
    }
   ],
   "source": [
    "n = adjacency_matrix.shape[0]\n",
    "dim = 10\n",
    "tol = np.sqrt(1e-15)*n\n",
    "\n",
    "start = time.time()\n",
    "vals, vecs = eigsh(Hr, dim, which='SA', tol=tol)\n",
    "print(\"time elapsed: %d\" % (time.time() - start))"
   ]
  },
  {
   "cell_type": "code",
   "execution_count": 7,
   "metadata": {},
   "outputs": [
    {
     "data": {
      "text/plain": [
       "array([-27.21834642,  -5.49479629,  -3.48974188,  -2.6891213 ,\n",
       "        -2.27078449,  -2.11221216,  -1.89083085,  -1.82318882,\n",
       "        -1.47392654,  -1.37102964])"
      ]
     },
     "execution_count": 7,
     "metadata": {},
     "output_type": "execute_result"
    }
   ],
   "source": [
    "### Scaled eigenvals\n",
    "vals"
   ]
  },
  {
   "cell_type": "code",
   "execution_count": 11,
   "metadata": {},
   "outputs": [
    {
     "data": {
      "text/plain": [
       "array([-581.92984447, -437.52568457, -434.62097627, -324.83389946,\n",
       "       -285.70772244, -278.87931479, -252.19034481, -238.15491937,\n",
       "        -90.49405409,  -52.79091689])"
      ]
     },
     "execution_count": 11,
     "metadata": {},
     "output_type": "execute_result"
    }
   ],
   "source": [
    "### Not scaled eigenvals\n",
    "vals"
   ]
  },
  {
   "cell_type": "code",
   "execution_count": 13,
   "metadata": {},
   "outputs": [
    {
     "data": {
      "text/plain": [
       "array([-4.15374624, -3.12300647, -3.102273  , -2.31862587, -2.03934785,\n",
       "       -1.99060749, -1.80010478, -1.69992158, -0.64593583, -0.37681531])"
      ]
     },
     "execution_count": 13,
     "metadata": {},
     "output_type": "execute_result"
    }
   ],
   "source": [
    "vals / np.max(adjacency_matrix.data)"
   ]
  },
  {
   "cell_type": "code",
   "execution_count": null,
   "metadata": {},
   "outputs": [],
   "source": []
  },
  {
   "cell_type": "code",
   "execution_count": 13,
   "metadata": {},
   "outputs": [],
   "source": [
    "output_path = \"../data/wiki/win=1_weighted_bethe_hessian_scaled2_pow=0.30_dim=100\"\n",
    "np.save(output_path + \".vecs\", vecs)\n",
    "np.save(output_path + \".vals\", vals - np.mean(degrees))\n",
    "np.save(output_path + \".degrees\", degrees)"
   ]
  },
  {
   "cell_type": "code",
   "execution_count": 14,
   "metadata": {},
   "outputs": [],
   "source": [
    "output_path = \"../data/wiki/win=1_weighted_bethe_hessian_scaled3_pow=0.30_dim=100\"\n",
    "np.save(output_path + \".vecs\", vecs2)\n",
    "np.save(output_path + \".vals\", vals2 - np.mean(degrees))\n",
    "np.save(output_path + \".degrees\", degrees)"
   ]
  },
  {
   "cell_type": "code",
   "execution_count": 11,
   "metadata": {},
   "outputs": [],
   "source": [
    "output_path = \"../data/wiki/win=1_bethe_hessian_small_rhoB_est_pow=0.00_dim=100\"\n",
    "vecs2 = np.load(output_path + \".vecs.npy\")\n",
    "vals2 = np.load(output_path + \".vals.npy\")"
   ]
  },
  {
   "cell_type": "code",
   "execution_count": 14,
   "metadata": {},
   "outputs": [],
   "source": [
    "all_vals = np.concatenate([vals, vals2], axis=0)\n",
    "all_vecs = np.concatenate([vecs, vecs2], axis=1)"
   ]
  },
  {
   "cell_type": "code",
   "execution_count": 19,
   "metadata": {},
   "outputs": [],
   "source": [
    "top_vals_inds = np.argsort(all_vals)[:100]\n",
    "output_path = \"../data/wiki/win=1_bethe_hessian_combo_rhoB_est_pow=0.00_dim=100\"\n",
    "np.save(output_path + \".vecs\", all_vecs[:, top_vals_inds])\n",
    "np.save(output_path + \".vals\", all_vals[top_vals_inds])\n",
    "np.save(output_path + \".degrees\", degrees)"
   ]
  },
  {
   "cell_type": "code",
   "execution_count": null,
   "metadata": {},
   "outputs": [],
   "source": []
  }
 ],
 "metadata": {
  "kernelspec": {
   "display_name": "Python (research)",
   "language": "python",
   "name": "research"
  },
  "language_info": {
   "codemirror_mode": {
    "name": "ipython",
    "version": 3
   },
   "file_extension": ".py",
   "mimetype": "text/x-python",
   "name": "python",
   "nbconvert_exporter": "python",
   "pygments_lexer": "ipython3",
   "version": "3.6.3"
  }
 },
 "nbformat": 4,
 "nbformat_minor": 2
}
