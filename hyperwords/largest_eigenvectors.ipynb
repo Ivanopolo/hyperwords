{
 "cells": [
  {
   "cell_type": "code",
   "execution_count": 1,
   "metadata": {},
   "outputs": [],
   "source": [
    "import numpy as np\n",
    "import scipy.sparse\n",
    "from scipy.sparse.linalg import lobpcg, eigsh, minres, LinearOperator\n",
    "from scipy.sparse import csr_matrix\n",
    "import time\n",
    "from utils.tools import build_weighted_bethe_hessian\n",
    "from scipy.sparse.csgraph import minimum_spanning_tree"
   ]
  },
  {
   "cell_type": "code",
   "execution_count": 1,
   "metadata": {},
   "outputs": [],
   "source": [
    "from petsc4py import PETSc\n",
    "from slepc4py import SLEPc"
   ]
  },
  {
   "cell_type": "code",
   "execution_count": 2,
   "metadata": {},
   "outputs": [],
   "source": [
    "S = SLEPc.SVD()"
   ]
  },
  {
   "cell_type": "code",
   "execution_count": null,
   "metadata": {},
   "outputs": [],
   "source": [
    "S.setLanczosOneSide"
   ]
  },
  {
   "cell_type": "code",
   "execution_count": 2,
   "metadata": {},
   "outputs": [],
   "source": [
    "adj_path = \"/Users/i.lobov/hyperwords/data/wiki/wikipedia.corpus.nodups_counts_win=1.adj\"\n",
    "adjacency_matrix = scipy.sparse.load_npz(adj_path + \".npz\")\n",
    "adjacency_matrix.data = adjacency_matrix.data ** 0.3\n",
    "degrees = np.asarray(adjacency_matrix.sum(axis=1)).flatten()"
   ]
  },
  {
   "cell_type": "code",
   "execution_count": 3,
   "metadata": {},
   "outputs": [],
   "source": [
    "r = np.sqrt(np.mean(degrees**2) / np.mean(degrees) - 1)\n",
    "#r = np.mean(adjacency_matrix.data**2)\n",
    "D, A = build_weighted_bethe_hessian(adjacency_matrix, r)\n",
    "\n",
    "n = adjacency_matrix.shape[0]\n",
    "I = scipy.sparse.eye(n, format='csr')\n",
    "Hr = D - A #+ I * np.mean(degrees)"
   ]
  },
  {
   "cell_type": "code",
   "execution_count": 5,
   "metadata": {},
   "outputs": [],
   "source": [
    "class MatrixOperator(object):\n",
    "\n",
    "    def __init__(self, A):\n",
    "        self.A = A.astype(PETSc.ScalarType)\n",
    "        self.n_calls = 0\n",
    "\n",
    "    def mult(self, A, x, y):\n",
    "        xx = x.getArray(readonly=1)\n",
    "        yy = y.getArray(readonly=0)\n",
    "        yy[:] = self.A.dot(xx)\n",
    "        self.n_calls += 1\n",
    "        \n",
    "    def getDiagonal(self, A, y):\n",
    "        yy = y.getArray(readonly=0)\n",
    "        yy[:] = self.A.diagonal()"
   ]
  },
  {
   "cell_type": "code",
   "execution_count": 17,
   "metadata": {},
   "outputs": [
    {
     "data": {
      "text/plain": [
       "<petsc4py.PETSc.Mat at 0x1164a6308>"
      ]
     },
     "execution_count": 17,
     "metadata": {},
     "output_type": "execute_result"
    }
   ],
   "source": [
    "from petsc4py import PETSc\n",
    "from slepc4py import SLEPc\n",
    "\n",
    "A = Hr\n",
    "k = 100\n",
    "tol = 1e-2\n",
    "max_iter = 100\n",
    "\n",
    "### Setup matrix operator\n",
    "n = A.shape[0]\n",
    "mat = MatrixOperator(A)\n",
    "A_operator = PETSc.Mat().createPython([n, n], mat)\n",
    "A_operator.setUp()\n",
    "\n",
    "#A_operator = PETSc.Mat().createAIJ(size=A.shape, csr=(A.indptr, A.indices, A.data))"
   ]
  },
  {
   "cell_type": "code",
   "execution_count": 18,
   "metadata": {},
   "outputs": [
    {
     "name": "stdout",
     "output_type": "stream",
     "text": [
      "Starting solving\n",
      "Current iteration: 1, number of converged eigenvalues: 49\n",
      "Current iteration: 2, number of converged eigenvalues: 76\n",
      "Current iteration: 3, number of converged eigenvalues: 95\n",
      "Current iteration: 4, number of converged eigenvalues: 101\n",
      "Time_elapsed: 182\n",
      "Number of calls to Ax: 686\n"
     ]
    }
   ],
   "source": [
    "### Solve eigenproblem\n",
    "E = SLEPc.EPS()\n",
    "E.create()\n",
    "E.setOperators(A_operator)\n",
    "E.setProblemType(SLEPc.EPS.ProblemType.HEP)\n",
    "E.setType(SLEPc.EPS.Type.LANCZOS)\n",
    "E.setDimensions(k)\n",
    "E.setTolerances(tol, max_iter)\n",
    "E.setWhichEigenpairs(SLEPc.EPS.Which.SMALLEST_REAL)\n",
    "\n",
    "def monitor_fun(eps, iters, nconv, eigs, errors):\n",
    "    print(\"Current iteration: %d, number of converged eigenvalues: %d\" % (iters, nconv))\n",
    "\n",
    "E.setMonitor(monitor_fun)\n",
    "\n",
    "print(\"Starting solving\")\n",
    "start = time.time()\n",
    "E.solve()\n",
    "print(\"Time_elapsed: %d\" % (time.time() - start))\n",
    "print(\"Number of calls to Ax: %d\" % mat.n_calls)"
   ]
  },
  {
   "cell_type": "code",
   "execution_count": 10,
   "metadata": {},
   "outputs": [
    {
     "name": "stdout",
     "output_type": "stream",
     "text": [
      "\n",
      "Number of iterations of the method: 4\n",
      "Solution method: lanczos\n",
      "100 200 200\n",
      "Number of requested eigenvalues: 100\n",
      "Stopping condition: tol=0.01, maxit=100\n",
      "Number of converged eigenpairs: 101\n"
     ]
    }
   ],
   "source": [
    "### Collect results\n",
    "print(\"\")\n",
    "its = E.getIterationNumber()\n",
    "print(\"Number of iterations of the method: %i\" % its)\n",
    "sol_type = E.getType()\n",
    "print(\"Solution method: %s\" % sol_type)\n",
    "nev, ncv, mpd = E.getDimensions()\n",
    "print(nev, ncv, mpd)\n",
    "print(\"Number of requested eigenvalues: %i\" % nev)\n",
    "tol, maxit = E.getTolerances()\n",
    "print(\"Stopping condition: tol=%.4g, maxit=%d\" % (tol, maxit))\n",
    "nconv = E.getConverged()\n",
    "print(\"Number of converged eigenpairs: %d\" % nconv)\n",
    "nconv = min(nconv, k)\n",
    "\n",
    "if nconv < k:\n",
    "    raise ZeroDivisionError(\"Failed to converge for requested number of k with maxiter=%d\" % max_iter)\n",
    "\n",
    "vecs = np.zeros([n, nconv])\n",
    "vals = np.zeros(nconv)\n",
    "\n",
    "xr, tmp = A_operator.getVecs()\n",
    "xi, tmp = A_operator.getVecs()\n",
    "\n",
    "if nconv > 0:\n",
    "    for i in range(nconv):\n",
    "        val = E.getEigenpair(i, xr, xi)\n",
    "        vals[i] = val.real\n",
    "        vecs[:, i] = xr"
   ]
  },
  {
   "cell_type": "code",
   "execution_count": 11,
   "metadata": {},
   "outputs": [
    {
     "data": {
      "text/plain": [
       "array([-52.81019524, -11.47311448,  -7.327142  ,  -5.68407192,\n",
       "        -5.01466348,  -4.62261124,  -4.37962547,  -3.95044248,\n",
       "        -3.50956361,  -3.314219  ,  -3.17637015,  -2.69915527,\n",
       "        -2.5935662 ,  -2.35605041,  -2.32639613,  -2.00888757,\n",
       "        -1.85249348,  -1.80078643,  -1.71902306,  -1.66647199,\n",
       "        -1.53121169,  -1.45979545,  -1.39323969,  -1.35780827,\n",
       "        -1.29056561,  -1.17121047,  -1.12774989,  -1.09565135,\n",
       "        -1.06909956,  -1.01114   ,  -0.98329121,  -0.91351126,\n",
       "        -0.8518678 ,   7.35872008,   7.45666826,   7.50411991,\n",
       "         8.01808214,   8.07617109,   8.4343341 ,   8.46181108,\n",
       "         8.53984821,   8.63057676,   8.73587394,   8.92982677,\n",
       "         9.06431769,   9.19448371,   9.27837346,   9.43445328,\n",
       "         9.64921205,   9.71147721,   9.81693597,   9.88986496,\n",
       "         9.96266172,  10.09344502,  10.25243466,  10.41685042,\n",
       "        10.46698245,  10.68468045,  10.75888908,  10.94919774,\n",
       "        11.0848075 ,  11.34126278,  11.80338264,  12.17486882,\n",
       "        12.28507836,  12.53516696,  12.62308551,  12.63660112,\n",
       "        13.03948517,  13.51120029,  14.06790311,  15.08211332,\n",
       "        15.46352209,  15.81488714,  16.61782851,  16.85980344,\n",
       "        17.45810402,  17.63844806,  18.83729322,  19.34466838,\n",
       "        19.85130589,  20.61493234,  21.76831912,  23.09339457,\n",
       "        26.39617481,  28.36588223,  30.27818773,  30.83818326,\n",
       "        34.1549912 ,  36.68485386,  37.09945813,  38.11996727,\n",
       "        40.0415653 ,  44.04489663,  47.52611933,  61.85944197,\n",
       "        66.21374104,  78.4068736 ,  91.39344258, 112.57228075])"
      ]
     },
     "execution_count": 11,
     "metadata": {},
     "output_type": "execute_result"
    }
   ],
   "source": [
    "vals"
   ]
  },
  {
   "cell_type": "code",
   "execution_count": null,
   "metadata": {},
   "outputs": [],
   "source": []
  },
  {
   "cell_type": "code",
   "execution_count": 18,
   "metadata": {},
   "outputs": [],
   "source": [
    "output_path = \"../data/wiki/win=1_correctly_weighted_bethe_hessian_fast_slepc_pow=0.3_dim=100\"\n",
    "np.save(output_path + \".vecs\", vecs[:,:100])\n",
    "np.save(output_path + \".vals\", vals[:100])\n",
    "np.save(output_path + \".degrees\", degrees)"
   ]
  },
  {
   "cell_type": "code",
   "execution_count": 19,
   "metadata": {},
   "outputs": [
    {
     "data": {
      "text/plain": [
       "'../data/wiki/win=1_correctly_weighted_bethe_hessian_fast_slepc_pow=0.3_dim=100.words.vocab'"
      ]
     },
     "execution_count": 19,
     "metadata": {},
     "output_type": "execute_result"
    }
   ],
   "source": [
    "import shutil\n",
    "base_path = '../data/wiki/'\n",
    "shutil.copyfile(base_path + 'win=1_weighted_bethe_hessian_slepc_scaled_abs_tol=1e-3_pow=0.3_dim=500.words.vocab', \n",
    "                base_path + 'win=1_correctly_weighted_bethe_hessian_fast_slepc_pow=0.3_dim=100' + \".words.vocab\")"
   ]
  },
  {
   "cell_type": "code",
   "execution_count": null,
   "metadata": {},
   "outputs": [],
   "source": []
  }
 ],
 "metadata": {
  "kernelspec": {
   "display_name": "Python (research)",
   "language": "python",
   "name": "research"
  },
  "language_info": {
   "codemirror_mode": {
    "name": "ipython",
    "version": 3
   },
   "file_extension": ".py",
   "mimetype": "text/x-python",
   "name": "python",
   "nbconvert_exporter": "python",
   "pygments_lexer": "ipython3",
   "version": "3.6.3"
  }
 },
 "nbformat": 4,
 "nbformat_minor": 2
}
