{
 "cells": [
  {
   "cell_type": "code",
   "execution_count": 1,
   "metadata": {},
   "outputs": [],
   "source": [
    "import numpy as np\n",
    "import scipy.sparse\n",
    "from scipy.sparse.linalg import lobpcg, eigsh, minres, LinearOperator\n",
    "from scipy.sparse import csr_matrix\n",
    "import time\n",
    "from utils.tools import build_weighted_bethe_hessian\n",
    "import networkx as nx"
   ]
  },
  {
   "cell_type": "code",
   "execution_count": 2,
   "metadata": {},
   "outputs": [],
   "source": [
    "adj_path = \"/Users/i.lobov/hyperwords/data/wiki/wikipedia.corpus.nodups_counts_win=1.adj\"\n",
    "adjacency_matrix = scipy.sparse.load_npz(adj_path + \".npz\")\n",
    "#adjacency_matrix.data = 1 + np.log(adjacency_matrix.data)\n",
    "adjacency_matrix.data = adjacency_matrix.data.astype(np.float32) ** 0.0\n",
    "#adjacency_matrix.data /= np.max(adjacency_matrix.data)\n",
    "degrees = np.asarray(adjacency_matrix.sum(axis=1)).flatten()"
   ]
  },
  {
   "cell_type": "code",
   "execution_count": 4,
   "metadata": {},
   "outputs": [],
   "source": [
    "n = adjacency_matrix.shape[0]\n",
    "D = scipy.sparse.spdiags(degrees, [0], n, n, format='csr')\n",
    "L = D - adjacency_matrix\n",
    "diags_sqrt = 1.0/np.sqrt(degrees)\n",
    "DH = scipy.sparse.spdiags(diags_sqrt, [0], n, n, format='csr')\n",
    "Hr = DH.dot(L.dot(DH))"
   ]
  },
  {
   "cell_type": "code",
   "execution_count": 8,
   "metadata": {},
   "outputs": [],
   "source": [
    "#r = np.sqrt(5176.292450)\n",
    "r = np.sqrt(np.mean(degrees**2) / np.mean(degrees) - 1)\n",
    "#r = np.sqrt(np.mean(degrees))\n",
    "Hr = build_weighted_bethe_hessian(adjacency_matrix, r)\n",
    "\n",
    "#I = scipy.sparse.eye(n, format='csr')\n",
    "#Hr = D - adjacency_matrix #+ I*np.mean(degrees)"
   ]
  },
  {
   "cell_type": "code",
   "execution_count": 17,
   "metadata": {},
   "outputs": [],
   "source": [
    "# n = adjacency_matrix.shape[0]\n",
    "# I = scipy.sparse.eye(n, n, dtype=np.float32, format='csr')\n",
    "# Hr = Hr + I * 55"
   ]
  },
  {
   "cell_type": "code",
   "execution_count": 5,
   "metadata": {},
   "outputs": [],
   "source": [
    "# preconditioner = scipy.sparse.spdiags(1.0 / bethe_diagonal, [0], n, n, format='csr')"
   ]
  },
  {
   "cell_type": "code",
   "execution_count": 6,
   "metadata": {},
   "outputs": [],
   "source": [
    "# n = adjacency_matrix.shape[0]\n",
    "# dim = 100\n",
    "# tol = np.sqrt(1e-15)*n\n",
    "\n",
    "# start = time.time()\n",
    "# vals, vecs = eigsh(Hr, dim, which='SA', tol=tol)\n",
    "# print(\"time elapsed: %d\" % (time.time() - start))"
   ]
  },
  {
   "cell_type": "code",
   "execution_count": 5,
   "metadata": {},
   "outputs": [],
   "source": [
    "class Operator(object):\n",
    "\n",
    "    def __init__(self, A):\n",
    "        self.A = A.astype(PETSc.ScalarType)\n",
    "        self.n_calls = 0\n",
    "\n",
    "    def mult(self, A, x, y):\n",
    "        xx = x.getArray(readonly=1)\n",
    "        yy = y.getArray(readonly=0)\n",
    "        yy[:] = self.A.dot(xx)\n",
    "        self.n_calls += 1\n",
    "        \n",
    "    def getDiagonal(self, A, y):\n",
    "        yy = y.getArray(readonly=0)\n",
    "        yy[:] = self.A.diagonal()"
   ]
  },
  {
   "cell_type": "code",
   "execution_count": 6,
   "metadata": {},
   "outputs": [],
   "source": [
    "from petsc4py import PETSc\n",
    "from slepc4py import SLEPc\n",
    "\n",
    "n = adjacency_matrix.shape[0]\n",
    "mat = Operator(Hr)\n",
    "A = PETSc.Mat().createPython([n, n], mat)\n",
    "A.setUp()\n",
    "# A = PETSc.Mat().createAIJ(\n",
    "#     size=(n,n), \n",
    "#     csr=(Hr.indptr, Hr.indices, Hr.data.astype(np.float32)))\n",
    "\n",
    "k = 100\n",
    "#tol = np.sqrt(1e-15)*n\n",
    "tol = 1e-4\n",
    "max_iter = 100\n",
    "\n",
    "E = SLEPc.EPS()\n",
    "E.create()\n",
    "E.setOperators(A)\n",
    "E.setProblemType(SLEPc.EPS.ProblemType.HEP)\n",
    "E.setDimensions(nev=k)\n",
    "E.setTolerances(tol, max_iter)\n",
    "E.setWhichEigenpairs(SLEPc.EPS.Which.SMALLEST_REAL)\n",
    "#E.setConvergenceTest(SLEPc.EPS.Conv.ABS)"
   ]
  },
  {
   "cell_type": "code",
   "execution_count": 7,
   "metadata": {},
   "outputs": [
    {
     "name": "stdout",
     "output_type": "stream",
     "text": [
      "Time elapsed: 172.629435\n",
      "Number of calls to Ax: 700\n"
     ]
    }
   ],
   "source": [
    "import time\n",
    "\n",
    "mat.n_calls = 0\n",
    "start = time.time()\n",
    "E.solve()\n",
    "print(\"Time elapsed: %f\" % (time.time() - start))\n",
    "print(\"Number of calls to Ax: %d\" % mat.n_calls)"
   ]
  },
  {
   "cell_type": "code",
   "execution_count": null,
   "metadata": {},
   "outputs": [],
   "source": [
    "# Default dimensions and regular scaling\n",
    "# Time elapsed: 285.804691\n",
    "# Number of calls to Ax: 1193\n",
    "# Number of iterations of the method: 16\n",
    "\n",
    "# ncv=110\n",
    "# Time elapsed: 467.946925\n",
    "# Number of calls to Ax: 1989\n",
    "# Number of iterations of the method: 100\n",
    "# Number of converged eigenpairs: 90\n",
    "\n",
    "# ncv=150\n",
    "# Time elapsed: 336.665154\n",
    "# Number of calls to Ax: 1481\n",
    "# Number of iterations of the method: 34\n",
    "\n",
    "# Default dimensions and normalized adjacency, tol=1e-4\n",
    "# Time elapsed: 138.258507\n",
    "# Number of calls to Ax: 600\n",
    "# Number of iterations of the method: 7"
   ]
  },
  {
   "cell_type": "code",
   "execution_count": 8,
   "metadata": {},
   "outputs": [
    {
     "name": "stdout",
     "output_type": "stream",
     "text": [
      "\n",
      "Number of iterations of the method: 6\n",
      "Solution method: krylovschur\n",
      "Number of requested eigenvalues: 100\n",
      "Stopping condition: tol=0.0001, maxit=100\n",
      "Number of converged eigenpairs: 100\n",
      "\n",
      "        k          ||Ax-kx||/||kx|| \n",
      "----------------- ------------------\n",
      "     0.000003             473279\n",
      "     0.543911        6.05379e-10\n",
      "     0.605690        1.00282e+10\n",
      "     0.648847                 -0\n",
      "     0.668177        9.09041e+09\n",
      "     0.684353             2.0665\n",
      "     0.694946                nan\n",
      "     0.711350        4.62884e-10\n",
      "     0.720759        4.56841e-10\n",
      "     0.728543            1.94115\n",
      "\n"
     ]
    }
   ],
   "source": [
    "print(\"\")\n",
    "its = E.getIterationNumber()\n",
    "print(\"Number of iterations of the method: %i\" % its)\n",
    "sol_type = E.getType()\n",
    "print(\"Solution method: %s\" % sol_type)\n",
    "nev, ncv, mpd = E.getDimensions()\n",
    "print(\"Number of requested eigenvalues: %i\" % nev)\n",
    "tol, maxit = E.getTolerances()\n",
    "print(\"Stopping condition: tol=%.4g, maxit=%d\" % (tol, maxit))\n",
    "nconv = E.getConverged()\n",
    "#nconv = 500\n",
    "print(\"Number of converged eigenpairs: %d\" % nconv)\n",
    "\n",
    "vecs = np.zeros([n, nconv])\n",
    "vals = np.zeros(nconv)\n",
    "\n",
    "xr, tmp = A.getVecs()\n",
    "xi, tmp = A.getVecs()\n",
    "\n",
    "if nconv > 0:\n",
    "    print(\"\")\n",
    "    print(\"        k          ||Ax-kx||/||kx|| \")\n",
    "    print(\"----------------- ------------------\")\n",
    "    for i in range(nconv):\n",
    "        k = E.getEigenpair(i, xr, xi)\n",
    "        vals[i] = k.real\n",
    "        vecs[:,i] = xr\n",
    "        if i < 10:\n",
    "            error = E.computeError(i)\n",
    "            if k.imag != 0.0:\n",
    "                print(\" %9f%+9f j  %12g\" % (k.real, k.imag, error))\n",
    "            else:\n",
    "                print(\" %12f       %12g\" % (k.real, error))\n",
    "    print(\"\")"
   ]
  },
  {
   "cell_type": "code",
   "execution_count": 9,
   "metadata": {},
   "outputs": [],
   "source": [
    "output_path = \"../data/wiki/win=1_normalized_laplacian_slepc_pow=0.0_dim=100\"\n",
    "np.save(output_path + \".vecs\", vecs[:,:100])\n",
    "np.save(output_path + \".vals\", vals[:100])\n",
    "np.save(output_path + \".degrees\", degrees)"
   ]
  },
  {
   "cell_type": "code",
   "execution_count": 10,
   "metadata": {},
   "outputs": [
    {
     "data": {
      "text/plain": [
       "'../data/wiki/win=1_normalized_laplacian_slepc_pow=0.0_dim=100.words.vocab'"
      ]
     },
     "execution_count": 10,
     "metadata": {},
     "output_type": "execute_result"
    }
   ],
   "source": [
    "import shutil\n",
    "base_path = '../data/wiki/'\n",
    "shutil.copyfile(base_path + 'win=1_weighted_bethe_hessian_slepc_scaled_abs_tol=1e-3_pow=0.3_dim=500.words.vocab', \n",
    "                base_path + 'win=1_normalized_laplacian_slepc_pow=0.0_dim=100' + \".words.vocab\")"
   ]
  },
  {
   "cell_type": "code",
   "execution_count": 14,
   "metadata": {},
   "outputs": [],
   "source": [
    "output_path = \"../data/wiki/win=1_weighted_bethe_hessian_scaled3_pow=0.30_dim=100\"\n",
    "np.save(output_path + \".vecs\", vecs2)\n",
    "np.save(output_path + \".vals\", vals2 - np.mean(degrees))\n",
    "np.save(output_path + \".degrees\", degrees)"
   ]
  },
  {
   "cell_type": "code",
   "execution_count": 11,
   "metadata": {},
   "outputs": [],
   "source": [
    "output_path = \"../data/wiki/win=1_bethe_hessian_small_rhoB_est_pow=0.00_dim=100\"\n",
    "vecs2 = np.load(output_path + \".vecs.npy\")\n",
    "vals2 = np.load(output_path + \".vals.npy\")"
   ]
  },
  {
   "cell_type": "code",
   "execution_count": 14,
   "metadata": {},
   "outputs": [],
   "source": [
    "all_vals = np.concatenate([vals, vals2], axis=0)\n",
    "all_vecs = np.concatenate([vecs, vecs2], axis=1)"
   ]
  },
  {
   "cell_type": "code",
   "execution_count": 19,
   "metadata": {},
   "outputs": [],
   "source": [
    "top_vals_inds = np.argsort(all_vals)[:100]\n",
    "output_path = \"../data/wiki/win=1_bethe_hessian_combo_rhoB_est_pow=0.00_dim=100\"\n",
    "np.save(output_path + \".vecs\", all_vecs[:, top_vals_inds])\n",
    "np.save(output_path + \".vals\", all_vals[top_vals_inds])\n",
    "np.save(output_path + \".degrees\", degrees)"
   ]
  },
  {
   "cell_type": "code",
   "execution_count": null,
   "metadata": {},
   "outputs": [],
   "source": []
  }
 ],
 "metadata": {
  "kernelspec": {
   "display_name": "Python (research)",
   "language": "python",
   "name": "research"
  },
  "language_info": {
   "codemirror_mode": {
    "name": "ipython",
    "version": 3
   },
   "file_extension": ".py",
   "mimetype": "text/x-python",
   "name": "python",
   "nbconvert_exporter": "python",
   "pygments_lexer": "ipython3",
   "version": "3.6.3"
  }
 },
 "nbformat": 4,
 "nbformat_minor": 2
}
