{
 "cells": [
  {
   "cell_type": "code",
   "execution_count": 1,
   "metadata": {},
   "outputs": [],
   "source": [
    "import numpy as np\n",
    "import scipy.sparse\n",
    "from scipy.sparse.linalg import lobpcg, eigsh\n",
    "from scipy.sparse import csr_matrix\n",
    "import time"
   ]
  },
  {
   "cell_type": "code",
   "execution_count": 2,
   "metadata": {},
   "outputs": [],
   "source": [
    "adj_path = \"/Users/i.lobov/hyperwords/data/wiki/wikipedia.corpus.nodups_counts_win=1.adj\"\n",
    "adjacency_matrix = scipy.sparse.load_npz(adj_path + \".npz\")\n",
    "#adjacency_matrix.data = np.ones_like(adjacency_matrix.data, dtype=np.float64)\n",
    "adjacency_matrix.data = adjacency_matrix.data ** 0.1"
   ]
  },
  {
   "cell_type": "code",
   "execution_count": 3,
   "metadata": {},
   "outputs": [],
   "source": [
    "n = adjacency_matrix.shape[0]\n",
    "degrees = np.asarray(adjacency_matrix.sum(axis=1)).flatten()\n",
    "D = scipy.sparse.spdiags(degrees, [0], n, n, format='csr')\n",
    "L = D - adjacency_matrix\n",
    "degrees_sqrt = np.sqrt(degrees)\n",
    "D_inv_sqrt = scipy.sparse.spdiags(1.0 / degrees_sqrt, [0], n, n, format='csr')\n",
    "L = D_inv_sqrt.dot(L.dot(D_inv_sqrt))"
   ]
  },
  {
   "cell_type": "code",
   "execution_count": 4,
   "metadata": {},
   "outputs": [],
   "source": [
    "I = scipy.sparse.eye(n, n, dtype=np.float64, format='csr')"
   ]
  },
  {
   "cell_type": "code",
   "execution_count": 4,
   "metadata": {},
   "outputs": [],
   "source": [
    "degrees = np.asarray(adjacency_matrix.sum(axis=1)).flatten()"
   ]
  },
  {
   "cell_type": "code",
   "execution_count": 3,
   "metadata": {},
   "outputs": [],
   "source": [
    "# PMI-adjacency\n",
    "n = adjacency_matrix.shape[0]\n",
    "degrees = np.asarray(adjacency_matrix.sum(axis=1)).flatten()\n",
    "total_count = degrees.sum()\n",
    "D_inv = scipy.sparse.spdiags(1.0 / degrees, [0], n, n, format='csr')\n",
    "adjacency_matrix = D_inv.dot(adjacency_matrix.dot(D_inv))\n",
    "adjacency_matrix.data = np.maximum(np.log(adjacency_matrix.data * total_count), 0)\n",
    "adjacency_matrix.eliminate_zeros()\n",
    "degrees = np.asarray(adjacency_matrix.sum(axis=1), dtype=np.float64).flatten() #Update degrees"
   ]
  },
  {
   "cell_type": "code",
   "execution_count": 5,
   "metadata": {},
   "outputs": [],
   "source": [
    "#r = np.sqrt(5176.292450)\n",
    "r = np.sqrt(np.mean(degrees**2) / np.mean(degrees) - 1)\n",
    "n = adjacency_matrix.shape[0]\n",
    "\n",
    "dt = adjacency_matrix.data * r\n",
    "dt /= r**2 - adjacency_matrix.data ** 2\n",
    "\n",
    "adjacency_matrix.data = adjacency_matrix.data**2 / (r**2 - adjacency_matrix.data**2)\n",
    "bethe_diagonal = 1 + np.asarray(adjacency_matrix.sum(axis=1)).flatten()\n",
    "D = scipy.sparse.spdiags(bethe_diagonal, [0], n, n, format='csr')\n",
    "\n",
    "adjacency_matrix.data = dt\n",
    "Hr = D - adjacency_matrix"
   ]
  },
  {
   "cell_type": "code",
   "execution_count": 6,
   "metadata": {},
   "outputs": [
    {
     "name": "stdout",
     "output_type": "stream",
     "text": [
      "time elapsed: 382\n"
     ]
    }
   ],
   "source": [
    "#rng = np.random.RandomState(0)\n",
    "dim = 100\n",
    "tol = np.sqrt(1e-15)*n\n",
    "#init = rng.rand(n, dim)\n",
    "#init[:,0] = degrees_sqrt\n",
    "\n",
    "start = time.time()\n",
    "#vals, vecs = lobpcg(L, X=init, maxiter=100, largest=False, verbosityLevel=1)\n",
    "# vals, vecs = eigsh(L-I, dim, which='LM', tol=tol)\n",
    "vals, vecs = eigsh(Hr, dim, which='SA', tol=tol)\n",
    "print(\"time elapsed: %d\" % (time.time() - start))"
   ]
  },
  {
   "cell_type": "code",
   "execution_count": 7,
   "metadata": {},
   "outputs": [
    {
     "data": {
      "text/plain": [
       "array([ -4.53101092e+01,  -1.08895323e+01,  -8.19233865e+00,\n",
       "        -6.11187696e+00,  -4.94279585e+00,  -4.15455813e+00,\n",
       "        -4.08836478e+00,  -3.63634506e+00,  -3.12352071e+00,\n",
       "        -2.95109532e+00,  -2.79151716e+00,  -2.66331401e+00,\n",
       "        -2.33386005e+00,  -2.26894258e+00,  -2.08696911e+00,\n",
       "        -1.85999982e+00,  -1.79711046e+00,  -1.67084156e+00,\n",
       "        -1.64233173e+00,  -1.62821491e+00,  -1.47430340e+00,\n",
       "        -1.39976119e+00,  -1.35298976e+00,  -1.30205807e+00,\n",
       "        -1.24198053e+00,  -1.15406503e+00,  -1.10311912e+00,\n",
       "        -1.05981124e+00,  -1.05633489e+00,  -1.00502024e+00,\n",
       "        -9.85664442e-01,  -9.38488954e-01,  -8.79238747e-01,\n",
       "        -8.53475171e-01,  -8.20144019e-01,  -8.07808641e-01,\n",
       "        -7.90999241e-01,  -7.77533479e-01,  -7.18181170e-01,\n",
       "        -7.03102983e-01,  -6.66527986e-01,  -6.60826533e-01,\n",
       "        -6.14422837e-01,  -5.93851640e-01,  -5.67799416e-01,\n",
       "        -5.58837706e-01,  -5.50974785e-01,  -5.12038111e-01,\n",
       "        -4.97828179e-01,  -4.94989804e-01,  -4.87452762e-01,\n",
       "        -4.30046977e-01,  -4.17364769e-01,  -4.09314593e-01,\n",
       "        -4.00199520e-01,  -3.92216430e-01,  -3.76645258e-01,\n",
       "        -3.57161086e-01,  -3.42922764e-01,  -3.22154619e-01,\n",
       "        -3.10607031e-01,  -2.96564015e-01,  -2.70314221e-01,\n",
       "        -2.64482956e-01,  -2.55221598e-01,  -2.35042315e-01,\n",
       "        -2.19367720e-01,  -2.05944084e-01,  -1.96505113e-01,\n",
       "        -1.88765728e-01,  -1.73772930e-01,  -1.61675712e-01,\n",
       "        -1.58302337e-01,  -1.52748636e-01,  -1.48604353e-01,\n",
       "        -1.29836753e-01,  -1.28067563e-01,  -1.23292260e-01,\n",
       "        -1.12152818e-01,  -1.09004153e-01,  -9.76742289e-02,\n",
       "        -8.59644526e-02,  -8.06313018e-02,  -7.15308161e-02,\n",
       "        -6.03341199e-02,  -5.23614803e-02,  -4.86997000e-02,\n",
       "        -4.06223448e-02,  -3.11242871e-02,  -2.25529125e-02,\n",
       "        -1.31595508e-02,  -1.17281291e-02,  -6.01762243e-03,\n",
       "         2.47849736e-03,   9.67923027e-03,   1.23133315e-02,\n",
       "         1.58712135e-02,   2.14304299e-02,   2.35122724e-02,\n",
       "         3.17855321e-02])"
      ]
     },
     "execution_count": 7,
     "metadata": {},
     "output_type": "execute_result"
    }
   ],
   "source": [
    "vals"
   ]
  },
  {
   "cell_type": "code",
   "execution_count": null,
   "metadata": {},
   "outputs": [],
   "source": []
  },
  {
   "cell_type": "code",
   "execution_count": 8,
   "metadata": {},
   "outputs": [],
   "source": [
    "output_path = \"../data/wiki/win=1_weighted_bethe_hessian_pow=0.10_dim=100\"\n",
    "np.save(output_path + \".vecs\", vecs)\n",
    "np.save(output_path + \".vals\", vals)\n",
    "np.save(output_path + \".degrees\", degrees)"
   ]
  },
  {
   "cell_type": "code",
   "execution_count": 11,
   "metadata": {},
   "outputs": [],
   "source": [
    "output_path = \"../data/wiki/win=1_bethe_hessian_small_rhoB_est_pow=0.00_dim=100\"\n",
    "vecs2 = np.load(output_path + \".vecs.npy\")\n",
    "vals2 = np.load(output_path + \".vals.npy\")"
   ]
  },
  {
   "cell_type": "code",
   "execution_count": 14,
   "metadata": {},
   "outputs": [],
   "source": [
    "all_vals = np.concatenate([vals, vals2], axis=0)\n",
    "all_vecs = np.concatenate([vecs, vecs2], axis=1)"
   ]
  },
  {
   "cell_type": "code",
   "execution_count": 19,
   "metadata": {},
   "outputs": [],
   "source": [
    "top_vals_inds = np.argsort(all_vals)[:100]\n",
    "output_path = \"../data/wiki/win=1_bethe_hessian_combo_rhoB_est_pow=0.00_dim=100\"\n",
    "np.save(output_path + \".vecs\", all_vecs[:, top_vals_inds])\n",
    "np.save(output_path + \".vals\", all_vals[top_vals_inds])\n",
    "np.save(output_path + \".degrees\", degrees)"
   ]
  },
  {
   "cell_type": "code",
   "execution_count": null,
   "metadata": {},
   "outputs": [],
   "source": []
  }
 ],
 "metadata": {
  "kernelspec": {
   "display_name": "Python (research)",
   "language": "python",
   "name": "research"
  },
  "language_info": {
   "codemirror_mode": {
    "name": "ipython",
    "version": 3
   },
   "file_extension": ".py",
   "mimetype": "text/x-python",
   "name": "python",
   "nbconvert_exporter": "python",
   "pygments_lexer": "ipython3",
   "version": "3.6.3"
  }
 },
 "nbformat": 4,
 "nbformat_minor": 2
}
