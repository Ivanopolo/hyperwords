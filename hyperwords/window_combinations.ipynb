{
 "cells": [
  {
   "cell_type": "code",
   "execution_count": 1,
   "metadata": {},
   "outputs": [],
   "source": [
    "import numpy as np\n",
    "import scipy.sparse\n",
    "from scipy.sparse.linalg import lobpcg, eigsh\n",
    "from scipy.sparse import csr_matrix\n",
    "import time"
   ]
  },
  {
   "cell_type": "code",
   "execution_count": null,
   "metadata": {},
   "outputs": [],
   "source": [
    "adj_path = \"/Users/i.lobov/hyperwords/data/adjs/wikipedia.corpus.nodups_counts_win=3.adjacency\"\n",
    "adjacency_matrix = scipy.sparse.load_npz(adj_path + \".npz\")\n",
    "adjacency_matrix.data = adjacency_matrix.data ** 0.0"
   ]
  },
  {
   "cell_type": "code",
   "execution_count": null,
   "metadata": {},
   "outputs": [],
   "source": [
    "degrees = np.asarray(adjacency_matrix.sum(axis=1)).flatten()\n",
    "r = np.sqrt(np.mean(degrees**2) / np.mean(degrees) - 1)\n",
    "n = adjacency_matrix.shape[0]\n",
    "\n",
    "dt = adjacency_matrix.data * r\n",
    "dt /= r**2 - adjacency_matrix.data ** 2\n",
    "\n",
    "adjacency_matrix.data = adjacency_matrix.data**2 / (r**2 - adjacency_matrix.data**2)\n",
    "bethe_diagonal = 1 + np.asarray(adjacency_matrix.sum(axis=1)).flatten()\n",
    "D = scipy.sparse.spdiags(bethe_diagonal, [0], n, n, format='csr')\n",
    "\n",
    "adjacency_matrix.data = dt\n",
    "Hr = D - adjacency_matrix"
   ]
  },
  {
   "cell_type": "code",
   "execution_count": null,
   "metadata": {},
   "outputs": [],
   "source": [
    "dim = 100\n",
    "tol = np.sqrt(1e-15)*n\n",
    "\n",
    "start = time.time()\n",
    "vals, vecs = eigsh(Hr, dim, which='SA', tol=tol)\n",
    "print(\"time elapsed: %d\" % (time.time() - start))"
   ]
  }
 ],
 "metadata": {
  "kernelspec": {
   "display_name": "Python (research)",
   "language": "python",
   "name": "research"
  },
  "language_info": {
   "codemirror_mode": {
    "name": "ipython",
    "version": 3
   },
   "file_extension": ".py",
   "mimetype": "text/x-python",
   "name": "python",
   "nbconvert_exporter": "python",
   "pygments_lexer": "ipython3",
   "version": "3.6.3"
  }
 },
 "nbformat": 4,
 "nbformat_minor": 2
}
